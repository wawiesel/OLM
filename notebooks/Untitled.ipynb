{
 "cells": [
  {
   "cell_type": "code",
   "execution_count": 1,
   "id": "d8359133",
   "metadata": {},
   "outputs": [
    {
     "ename": "ModuleNotFoundError",
     "evalue": "No module named 'h5py'",
     "output_type": "error",
     "traceback": [
      "\u001b[0;31m---------------------------------------------------------------------------\u001b[0m",
      "\u001b[0;31mModuleNotFoundError\u001b[0m                       Traceback (most recent call last)",
      "Cell \u001b[0;32mIn [1], line 4\u001b[0m\n\u001b[1;32m      2\u001b[0m \u001b[38;5;28;01mimport\u001b[39;00m \u001b[38;5;21;01msys\u001b[39;00m\n\u001b[1;32m      3\u001b[0m sys\u001b[38;5;241m.\u001b[39mpath\u001b[38;5;241m.\u001b[39mappend(\u001b[38;5;124m'\u001b[39m\u001b[38;5;124m/Users/ww5/dev/scale/olm\u001b[39m\u001b[38;5;124m'\u001b[39m)\n\u001b[0;32m----> 4\u001b[0m \u001b[38;5;28;01mimport\u001b[39;00m \u001b[38;5;21;01mscale\u001b[39;00m\u001b[38;5;21;01m.\u001b[39;00m\u001b[38;5;21;01molm\u001b[39;00m \u001b[38;5;28;01mas\u001b[39;00m \u001b[38;5;21;01molm\u001b[39;00m\n",
      "File \u001b[0;32m~/dev/scale/olm/scale/olm/__init__.py:1\u001b[0m\n\u001b[0;32m----> 1\u001b[0m \u001b[38;5;28;01mimport\u001b[39;00m \u001b[38;5;21;01mscale\u001b[39;00m\u001b[38;5;21;01m.\u001b[39;00m\u001b[38;5;21;01molm\u001b[39;00m\u001b[38;5;21;01m.\u001b[39;00m\u001b[38;5;21;01mcommon\u001b[39;00m \u001b[38;5;28;01mas\u001b[39;00m \u001b[38;5;21;01mcommon\u001b[39;00m\n\u001b[1;32m      2\u001b[0m \u001b[38;5;28;01mimport\u001b[39;00m \u001b[38;5;21;01mscale\u001b[39;00m\u001b[38;5;21;01m.\u001b[39;00m\u001b[38;5;21;01molm\u001b[39;00m\u001b[38;5;21;01m.\u001b[39;00m\u001b[38;5;21;01mgenerate\u001b[39;00m \u001b[38;5;28;01mas\u001b[39;00m \u001b[38;5;21;01mgenerate\u001b[39;00m\n\u001b[1;32m      3\u001b[0m \u001b[38;5;28;01mimport\u001b[39;00m \u001b[38;5;21;01mscale\u001b[39;00m\u001b[38;5;21;01m.\u001b[39;00m\u001b[38;5;21;01molm\u001b[39;00m\u001b[38;5;21;01m.\u001b[39;00m\u001b[38;5;21;01mrun\u001b[39;00m \u001b[38;5;28;01mas\u001b[39;00m \u001b[38;5;21;01mrun\u001b[39;00m\n",
      "File \u001b[0;32m~/dev/scale/olm/scale/olm/common.py:1\u001b[0m\n\u001b[0;32m----> 1\u001b[0m \u001b[38;5;28;01mimport\u001b[39;00m \u001b[38;5;21;01mh5py\u001b[39;00m\n\u001b[1;32m      2\u001b[0m \u001b[38;5;28;01mfrom\u001b[39;00m \u001b[38;5;21;01mtqdm\u001b[39;00m \u001b[38;5;28;01mimport\u001b[39;00m tqdm, tqdm_notebook\n\u001b[1;32m      3\u001b[0m \u001b[38;5;28;01mimport\u001b[39;00m \u001b[38;5;21;01mnumpy\u001b[39;00m \u001b[38;5;28;01mas\u001b[39;00m \u001b[38;5;21;01mnp\u001b[39;00m\n",
      "\u001b[0;31mModuleNotFoundError\u001b[0m: No module named 'h5py'"
     ]
    }
   ],
   "source": [
    "import numpy as np\n",
    "import sys\n",
    "sys.path.append('/Users/ww5/dev/scale/olm')\n",
    "import scale.olm as olm"
   ]
  },
  {
   "cell_type": "code",
   "execution_count": 2,
   "id": "2c029ebc",
   "metadata": {},
   "outputs": [
    {
     "name": "stdout",
     "output_type": "stream",
     "text": [
      "Package             Version Editable project location\r\n",
      "------------------- ------- -------------------------\r\n",
      "appnope             0.1.3\r\n",
      "asttokens           2.2.1\r\n",
      "attrs               23.1.0\r\n",
      "backcall            0.2.0\r\n",
      "black               23.3.0\r\n",
      "cfgv                3.3.1\r\n",
      "click               8.1.3\r\n",
      "colorama            0.4.6\r\n",
      "contourpy           1.1.0\r\n",
      "cycler              0.11.0\r\n",
      "decorator           5.1.1\r\n",
      "distlib             0.3.6\r\n",
      "entrypoints         0.4\r\n",
      "et-xmlfile          1.1.0\r\n",
      "exceptiongroup      1.1.2\r\n",
      "executing           1.2.0\r\n",
      "filelock            3.12.2\r\n",
      "fonttools           4.40.0\r\n",
      "h5py                3.9.0\r\n",
      "identify            2.5.24\r\n",
      "importlib-resources 5.12.0\r\n",
      "iniconfig           2.0.0\r\n",
      "ipython             8.14.0\r\n",
      "jedi                0.18.2\r\n",
      "Jinja2              3.1.2\r\n",
      "kiwisolver          1.4.4\r\n",
      "MarkupSafe          2.1.3\r\n",
      "matplotlib          3.7.1\r\n",
      "matplotlib-inline   0.1.6\r\n",
      "mypy-extensions     1.0.0\r\n",
      "nodeenv             1.8.0\r\n",
      "numpy               1.25.0\r\n",
      "openpyxl            3.1.2\r\n",
      "packaging           23.1\r\n",
      "pandas              2.0.3\r\n",
      "parso               0.8.3\r\n",
      "pathspec            0.11.1\r\n",
      "pexpect             4.8.0\r\n",
      "pickleshare         0.7.5\r\n",
      "Pillow              10.0.0\r\n",
      "pip                 23.2.1\r\n",
      "platformdirs        3.8.0\r\n",
      "pluggy              1.2.0\r\n",
      "pre-commit          3.3.3\r\n",
      "prompt-toolkit      3.0.39\r\n",
      "ptyprocess          0.7.0\r\n",
      "pure-eval           0.2.2\r\n",
      "py                  1.11.0\r\n",
      "Pygments            2.15.1\r\n",
      "pyparsing           3.1.0\r\n",
      "pytest              7.4.0\r\n",
      "python-dateutil     2.8.2\r\n",
      "pytz                2023.3\r\n",
      "PyYAML              6.0\r\n",
      "scale-olm           0.1     /Users/ww5/dev/scale/olm\r\n",
      "setuptools          68.0.0\r\n",
      "six                 1.16.0\r\n",
      "stack-data          0.6.2\r\n",
      "structlog           23.1.0\r\n",
      "tomli               2.0.1\r\n",
      "tqdm                4.65.0\r\n",
      "traitlets           5.9.0\r\n",
      "typing_extensions   4.7.1\r\n",
      "tzdata              2023.3\r\n",
      "virtualenv          20.23.1\r\n",
      "wcwidth             0.2.6\r\n",
      "wheel               0.41.1\r\n",
      "zipp                3.15.0\r\n"
     ]
    }
   ],
   "source": [
    "!pip list"
   ]
  },
  {
   "cell_type": "code",
   "execution_count": null,
   "id": "47eb39f6",
   "metadata": {},
   "outputs": [],
   "source": []
  }
 ],
 "metadata": {
  "kernelspec": {
   "display_name": "Python 3 (ipykernel)",
   "language": "python",
   "name": "python3"
  },
  "language_info": {
   "codemirror_mode": {
    "name": "ipython",
    "version": 3
   },
   "file_extension": ".py",
   "mimetype": "text/x-python",
   "name": "python",
   "nbconvert_exporter": "python",
   "pygments_lexer": "ipython3",
   "version": "3.10.6"
  }
 },
 "nbformat": 4,
 "nbformat_minor": 5
}
