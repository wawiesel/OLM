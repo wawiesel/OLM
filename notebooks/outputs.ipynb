{
 "cells": [
  {
   "cell_type": "code",
   "execution_count": 1,
   "id": "8f1c1088",
   "metadata": {},
   "outputs": [
    {
     "name": "stdout",
     "output_type": "stream",
     "text": [
      "\u001b[2m2023-08-29 16:10:19\u001b[0m [\u001b[32m\u001b[1minfo     \u001b[0m] \u001b[1mInitialized scale.olm\u001b[0m\n"
     ]
    }
   ],
   "source": [
    "import numpy as np\n",
    "import sys\n",
    "import os\n",
    "from pathlib import Path\n",
    "notebook_path = Path(os.getcwd())\n",
    "sys.path.append(str(notebook_path.parent))\n",
    "import scale.olm as olm"
   ]
  },
  {
   "cell_type": "code",
   "execution_count": 2,
   "id": "19221346",
   "metadata": {},
   "outputs": [],
   "source": [
    "scalerte='/Applications/SCALE-6.3.0.app/Contents/Resources/bin/scalertex'"
   ]
  },
  {
   "cell_type": "code",
   "execution_count": 3,
   "id": "46c5f404",
   "metadata": {},
   "outputs": [
    {
     "name": "stdout",
     "output_type": "stream",
     "text": [
      "\u001b[2m2023-08-29 16:10:19\u001b[0m [\u001b[32m\u001b[1minfo     \u001b[0m] \u001b[1mrunning command:\n",
      "/Applications/SCALE-6.3.0.app/Contents/Resources/bin/scalertex -V\u001b[0m\n",
      "\u001b[2m2023-08-29 16:10:19\u001b[0m [\u001b[32m\u001b[1minfo     \u001b[0m] \u001b[1m\u001b[0m\n"
     ]
    },
    {
     "ename": "ValueError",
     "evalue": "/Applications/SCALE-6.3.0.app/Contents/Resources/bin/scalertex -V failed to run in the shell. Check this is a valid path or recognized executable.",
     "output_type": "error",
     "traceback": [
      "\u001b[0;31m---------------------------------------------------------------------------\u001b[0m",
      "\u001b[0;31mValueError\u001b[0m                                Traceback (most recent call last)",
      "Cell \u001b[0;32mIn[3], line 1\u001b[0m\n\u001b[0;32m----> 1\u001b[0m \u001b[43molm\u001b[49m\u001b[38;5;241;43m.\u001b[39;49m\u001b[43mcommon\u001b[49m\u001b[38;5;241;43m.\u001b[39;49m\u001b[43mrun_command\u001b[49m\u001b[43m(\u001b[49m\u001b[38;5;124;43mf\u001b[39;49m\u001b[38;5;124;43m\"\u001b[39;49m\u001b[38;5;132;43;01m{\u001b[39;49;00m\u001b[43mscalerte\u001b[49m\u001b[38;5;132;43;01m}\u001b[39;49;00m\u001b[38;5;124;43m -V\u001b[39;49m\u001b[38;5;124;43m\"\u001b[39;49m\u001b[43m)\u001b[49m\n",
      "File \u001b[0;32m~/dev/scale/olm/scale/olm/common.py:58\u001b[0m, in \u001b[0;36mrun_command\u001b[0;34m(command_line, check_return_code)\u001b[0m\n\u001b[1;32m     56\u001b[0m has_error \u001b[38;5;241m=\u001b[39m p\u001b[38;5;241m.\u001b[39mreturncode \u001b[38;5;129;01mand\u001b[39;00m p\u001b[38;5;241m.\u001b[39mreturncode \u001b[38;5;241m<\u001b[39m \u001b[38;5;241m0\u001b[39m\n\u001b[1;32m     57\u001b[0m \u001b[38;5;28;01mif\u001b[39;00m p\u001b[38;5;241m.\u001b[39mreturncode\u001b[38;5;241m==\u001b[39m\u001b[38;5;28;01mNone\u001b[39;00m:\n\u001b[0;32m---> 58\u001b[0m     \u001b[38;5;28;01mraise\u001b[39;00m \u001b[38;5;167;01mValueError\u001b[39;00m(\u001b[38;5;124mf\u001b[39m\u001b[38;5;124m\"\u001b[39m\u001b[38;5;132;01m{\u001b[39;00mcommand_line\u001b[38;5;132;01m}\u001b[39;00m\u001b[38;5;124m failed to run in the shell. Check this is a valid path or recognized executable.\u001b[39m\u001b[38;5;124m\"\u001b[39m)\n\u001b[1;32m     59\u001b[0m \u001b[38;5;28;01melif\u001b[39;00m check_return_code \u001b[38;5;129;01mand\u001b[39;00m p\u001b[38;5;241m.\u001b[39mreturncode \u001b[38;5;241m<\u001b[39m \u001b[38;5;241m0\u001b[39m:\n\u001b[1;32m     60\u001b[0m     logger\u001b[38;5;241m.\u001b[39minfo(\n\u001b[1;32m     61\u001b[0m         \u001b[38;5;124mf\u001b[39m\u001b[38;5;124m\"\u001b[39m\u001b[38;5;124mNonzero return code \u001b[39m\u001b[38;5;132;01m{\u001b[39;00mp\u001b[38;5;241m.\u001b[39mreturncode\u001b[38;5;132;01m}\u001b[39;00m\u001b[38;5;124m on last command:\u001b[39m\u001b[38;5;130;01m\\n\u001b[39;00m\u001b[38;5;132;01m{\u001b[39;00mcommand_line\u001b[38;5;132;01m}\u001b[39;00m\u001b[38;5;130;01m\\n\u001b[39;00m\u001b[38;5;124m\"\u001b[39m\n\u001b[1;32m     62\u001b[0m     )\n",
      "\u001b[0;31mValueError\u001b[0m: /Applications/SCALE-6.3.0.app/Contents/Resources/bin/scalertex -V failed to run in the shell. Check this is a valid path or recognized executable."
     ]
    }
   ],
   "source": [
    "olm.common.run_command(f\"{scalerte} -V\")"
   ]
  },
  {
   "cell_type": "code",
   "execution_count": null,
   "id": "f3680930",
   "metadata": {},
   "outputs": [],
   "source": [
    "for pb in hist['burndata']:\n",
    "    print(\"cycle{{ power={} burn={} }}\".format(pb['power'],pb['burn']))\n",
    "    "
   ]
  },
  {
   "cell_type": "code",
   "execution_count": null,
   "id": "d0ebe349",
   "metadata": {},
   "outputs": [],
   "source": []
  }
 ],
 "metadata": {
  "kernelspec": {
   "display_name": "Python 3 (ipykernel)",
   "language": "python",
   "name": "python3"
  },
  "language_info": {
   "codemirror_mode": {
    "name": "ipython",
    "version": 3
   },
   "file_extension": ".py",
   "mimetype": "text/x-python",
   "name": "python",
   "nbconvert_exporter": "python",
   "pygments_lexer": "ipython3",
   "version": "3.9.6"
  }
 },
 "nbformat": 4,
 "nbformat_minor": 5
}
