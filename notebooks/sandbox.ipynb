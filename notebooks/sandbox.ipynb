{
 "cells": [
  {
   "cell_type": "code",
   "execution_count": 1,
   "id": "42d96939-5534-41f8-b4f6-66c93b9471e6",
   "metadata": {},
   "outputs": [],
   "source": [
    "import scale.olm.core\n",
    "import pathlib"
   ]
  },
  {
   "cell_type": "code",
   "execution_count": null,
   "id": "b92423ae-befe-4104-b71f-8d065c9ab384",
   "metadata": {},
   "outputs": [],
   "source": [
    "rl = scale.olm.core.ReactorLibrary(pathlib.Path('../collection/w17x17/_work/arpdata.txt'),'w17x17')"
   ]
  },
  {
   "cell_type": "code",
   "execution_count": null,
   "id": "ae56fea1-4fb7-4f60-999e-f40e3de09211",
   "metadata": {},
   "outputs": [],
   "source": [
    "rl.axes_names"
   ]
  },
  {
   "cell_type": "code",
   "execution_count": null,
   "id": "1f54960d-44a8-4594-94a6-fd66b6f5e90b",
   "metadata": {},
   "outputs": [],
   "source": [
    "rl.axes_shape"
   ]
  },
  {
   "cell_type": "code",
   "execution_count": null,
   "id": "c751acba-a8ee-4cd4-aec4-3897bae16e7f",
   "metadata": {},
   "outputs": [],
   "source": []
  },
  {
   "cell_type": "code",
   "execution_count": null,
   "id": "b25cbde8-6909-4afd-989a-032792fa0129",
   "metadata": {},
   "outputs": [],
   "source": [
    "#1. burnup - calculate ORIGAMI solution at each point in original fine grid\n",
    "#2. keep only first and last burnups on the coarse grid\n",
    "#3. using interpolation on the coarse grid, calculate the ORIGAMI solultion at each point in the original fine grid\n",
    "#4. add back the point that reduces the error the most on the coarse grid\n",
    "#5. repeat on #3 until error is reasonable"
   ]
  }
 ],
 "metadata": {
  "kernelspec": {
   "display_name": "venv",
   "language": "python",
   "name": "venv"
  },
  "language_info": {
   "codemirror_mode": {
    "name": "ipython",
    "version": 3
   },
   "file_extension": ".py",
   "mimetype": "text/x-python",
   "name": "python",
   "nbconvert_exporter": "python",
   "pygments_lexer": "ipython3",
   "version": "3.11.5"
  }
 },
 "nbformat": 4,
 "nbformat_minor": 5
}
