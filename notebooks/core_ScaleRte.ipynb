{
 "cells": [
  {
   "cell_type": "code",
   "execution_count": 1,
   "id": "8f1c1088",
   "metadata": {},
   "outputs": [],
   "source": [
    "import sys\n",
    "import os\n",
    "from pathlib import Path\n",
    "notebook_path = Path(os.getcwd())\n",
    "sys.path.append(str(notebook_path.parent))\n",
    "from scale.olm.core import TempDir,ScaleRte,ThreadPoolExecutor"
   ]
  },
  {
   "cell_type": "code",
   "execution_count": 2,
   "id": "779de768",
   "metadata": {},
   "outputs": [
    {
     "name": "stdout",
     "output_type": "stream",
     "text": [
      "version: 7.0.pre-b7\n",
      "data (GB): 109.270413351\n"
     ]
    }
   ],
   "source": [
    "# Create a SCALE instance.\n",
    "scale_rte=ScaleRte('/Users/Shared/ornldev/code/scale/builds/master/INSTALL/bin/scalerte')\n",
    "print('version:',scale_rte.version)\n",
    "print('data (GB):',scale_rte.data_size/1e9)"
   ]
  },
  {
   "cell_type": "code",
   "execution_count": 14,
   "id": "f1b3f828",
   "metadata": {},
   "outputs": [],
   "source": [
    "ti=TempDir()"
   ]
  },
  {
   "cell_type": "code",
   "execution_count": 15,
   "id": "5c24006e",
   "metadata": {},
   "outputs": [],
   "source": [
    "# Create test input files in a temporary directory. Each input file just runs \"sleep 1\" to sleep\n",
    "# for 1 second, but it does it through SCALE's shell command.\n",
    "input_list=[]\n",
    "sleep_seconds = 2\n",
    "num_tasks = 6\n",
    "for i in range(num_tasks):\n",
    "    input_list.append(ti.write_file(f\"=shell\\nsleep {sleep_seconds}\\nend\\n\",f\"{i}.inp\"))"
   ]
  },
  {
   "cell_type": "code",
   "execution_count": 16,
   "id": "e7097f0b",
   "metadata": {},
   "outputs": [],
   "source": [
    "# Run the first input.\n",
    "input, output = scale_rte.run(input_list[0])\n",
    "srs = output['scale_runtime_seconds']"
   ]
  },
  {
   "cell_type": "code",
   "execution_count": 17,
   "id": "46c5f404",
   "metadata": {},
   "outputs": [],
   "source": [
    "# Create a thread executor.\n",
    "num_workers=6\n",
    "tpe = ThreadPoolExecutor(max_workers=num_workers)"
   ]
  },
  {
   "cell_type": "code",
   "execution_count": 18,
   "id": "f3680930",
   "metadata": {},
   "outputs": [
    {
     "name": "stderr",
     "output_type": "stream",
     "text": [
      "100%|███████████████████████████████████████████████████████████████████████████████████████████████████████████████████████████████████████████████| 6/6 [00:08<00:00,  1.41s/it]"
     ]
    },
    {
     "name": "stdout",
     "output_type": "stream",
     "text": [
      "ideal time: 4.777565002441406\n",
      "used time: 8.48180890083313\n"
     ]
    },
    {
     "name": "stderr",
     "output_type": "stream",
     "text": [
      "\n"
     ]
    }
   ],
   "source": [
    "# Run all the inputs.\n",
    "import time\n",
    "start = time.time()\n",
    "total_needed_seconds = srs*num_tasks\n",
    "results = tpe.execute(scale_rte.run,input_list)\n",
    "total_used_seconds = time.time() - start\n",
    "print('ideal time:',total_needed_seconds/num_workers)\n",
    "print('used time:',total_used_seconds)"
   ]
  },
  {
   "cell_type": "code",
   "execution_count": null,
   "id": "4ee7df6c",
   "metadata": {},
   "outputs": [],
   "source": [
    "for k,v in results.items():\n",
    "    print(k,v['success'])"
   ]
  },
  {
   "cell_type": "code",
   "execution_count": null,
   "id": "7724589d",
   "metadata": {},
   "outputs": [],
   "source": [
    "# Plot a histogram of runtimes.\n",
    "import matplotlib.pyplot as plt\n",
    "times1 = [v['runtime_seconds'] for k,v in results.items()]\n",
    "plt.hist(times1,10)\n",
    "plt.title('Runtime distribution (first run)')\n",
    "plt.ylabel('# of runs')\n",
    "plt.xlabel('time(s)')\n",
    "plt.show()"
   ]
  },
  {
   "cell_type": "code",
   "execution_count": null,
   "id": "115cb28b",
   "metadata": {},
   "outputs": [],
   "source": [
    "# Rerun an plot a histogram of runtimes.\n",
    "import numpy as np\n",
    "results = tpe.execute(scale_rte.run,input_list)\n",
    "times2 = [v['runtime_seconds'] for k,v in results.items()]\n",
    "bins = np.linspace(0, np.amax([times1,times2]), 30)\n",
    "plt.hist(times1, bins, alpha=0.5, label='first run')\n",
    "plt.hist(times2, bins, alpha=0.5, label='second (re)run')\n",
    "plt.legend(loc='upper right')\n",
    "plt.title('Runtime distribution, showing huge time savings for avoiding reruns')\n",
    "plt.ylabel('# of runs')\n",
    "plt.xlabel('time(s)')\n",
    "plt.show()\n"
   ]
  },
  {
   "cell_type": "code",
   "execution_count": null,
   "id": "f2cae969",
   "metadata": {},
   "outputs": [],
   "source": [
    "# Finally, if we modify a file, only that file will be rerun even when we submit the entire group.\n",
    "import random\n",
    "rand = random.uniform(1.0,3.0)\n",
    "ti.write_file(f\"=shell\\nsleep {rand} \\nend\\n\",\"10.inp\")\n",
    "results = tpe.execute(scale_rte.run,input_list)\n",
    "times3 = [v['runtime_seconds'] for k,v in results.items()]\n",
    "plt.hist(times1, bins, alpha=0.5, label='first run')\n",
    "plt.hist(times2, bins, alpha=0.5, label='second run--no mods')\n",
    "plt.hist(times3, bins, alpha=0.5, label='third run--one file mod')\n",
    "plt.legend(loc='upper right')\n",
    "plt.title('Runtime distribution, showing huge time savings for avoiding reruns')\n",
    "plt.ylabel('# of runs')\n",
    "plt.xlabel('time(s)')\n",
    "plt.show()"
   ]
  },
  {
   "cell_type": "code",
   "execution_count": null,
   "id": "ddf6a9cb",
   "metadata": {},
   "outputs": [],
   "source": [
    "for k,x in results.items():\n",
    "    if x['rerun']:\n",
    "        print(k,'was rerun!')"
   ]
  },
  {
   "cell_type": "code",
   "execution_count": null,
   "id": "b9fe5a5b",
   "metadata": {},
   "outputs": [],
   "source": []
  },
  {
   "cell_type": "code",
   "execution_count": null,
   "id": "4400b354",
   "metadata": {},
   "outputs": [],
   "source": [
    "import time\n",
    "def my_func(input):\n",
    "    time.sleep(2)\n",
    "    output=\"x\"+input.upper()+\"x\"\n",
    "    return input,output\n",
    "input_list = [str(x) for x in range(40)]\n",
    "tpe = ThreadPoolExecutor(1)\n",
    "start = time.time()\n",
    "results = tpe.execute(my_func,input_list)\n",
    "time.time()-start"
   ]
  },
  {
   "cell_type": "code",
   "execution_count": null,
   "id": "61fc37f9",
   "metadata": {},
   "outputs": [],
   "source": [
    "results"
   ]
  },
  {
   "cell_type": "code",
   "execution_count": null,
   "id": "318f94b4",
   "metadata": {},
   "outputs": [],
   "source": []
  }
 ],
 "metadata": {
  "kernelspec": {
   "display_name": "venv",
   "language": "python",
   "name": "venv"
  },
  "language_info": {
   "codemirror_mode": {
    "name": "ipython",
    "version": 3
   },
   "file_extension": ".py",
   "mimetype": "text/x-python",
   "name": "python",
   "nbconvert_exporter": "python",
   "pygments_lexer": "ipython3",
   "version": "3.9.6"
  }
 },
 "nbformat": 4,
 "nbformat_minor": 5
}
