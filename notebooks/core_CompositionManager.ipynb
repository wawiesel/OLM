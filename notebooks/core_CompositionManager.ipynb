{
 "cells": [
  {
   "cell_type": "code",
   "execution_count": 1,
   "id": "8f1c1088",
   "metadata": {},
   "outputs": [],
   "source": [
    "import numpy as np\n",
    "import sys\n",
    "import os\n",
    "import matplotlib.pyplot as plt\n",
    "from pathlib import Path\n",
    "notebook_path = Path(os.getcwd())\n",
    "sys.path.append(str(notebook_path.parent))\n",
    "import scale.olm as olm"
   ]
  },
  {
   "cell_type": "code",
   "execution_count": 17,
   "id": "2ef36b30",
   "metadata": {},
   "outputs": [
    {
     "name": "stdout",
     "output_type": "stream",
     "text": [
      "{\n",
      "    \"options\": {\n",
      "        \"min_shutdown_time\": 10.0,\n",
      "        \"min_shutdown_power\": 0.0,\n",
      "        \"starts_within_cycle\": null\n",
      "    },\n",
      "    \"operations\": [\n",
      "        {\n",
      "            \"cycle\": \"\",\n",
      "            \"within_cycle\": false,\n",
      "            \"start\": 0,\n",
      "            \"end\": 2\n",
      "        },\n",
      "        {\n",
      "            \"cycle\": \"1\",\n",
      "            \"within_cycle\": true,\n",
      "            \"start\": 2,\n",
      "            \"end\": 17\n",
      "        },\n",
      "        {\n",
      "            \"cycle\": \"\",\n",
      "            \"within_cycle\": false,\n",
      "            \"start\": 17,\n",
      "            \"end\": 18\n",
      "        },\n",
      "        {\n",
      "            \"cycle\": \"2\",\n",
      "            \"within_cycle\": true,\n",
      "            \"start\": 18,\n",
      "            \"end\": 34\n",
      "        },\n",
      "        {\n",
      "            \"cycle\": \"\",\n",
      "            \"within_cycle\": false,\n",
      "            \"start\": 34,\n",
      "            \"end\": 35\n",
      "        },\n",
      "        {\n",
      "            \"cycle\": \"3\",\n",
      "            \"within_cycle\": true,\n",
      "            \"start\": 35,\n",
      "            \"end\": 43\n",
      "        },\n",
      "        {\n",
      "            \"cycle\": \"\",\n",
      "            \"within_cycle\": false,\n",
      "            \"start\": 43,\n",
      "            \"end\": 44\n",
      "        },\n",
      "        {\n",
      "            \"cycle\": \"4\",\n",
      "            \"within_cycle\": true,\n",
      "            \"start\": 44,\n",
      "            \"end\": 55\n",
      "        },\n",
      "        {\n",
      "            \"cycle\": \"\",\n",
      "            \"within_cycle\": false,\n",
      "            \"start\": 55,\n",
      "            \"end\": 56\n",
      "        },\n",
      "        {\n",
      "            \"cycle\": \"5\",\n",
      "            \"within_cycle\": true,\n",
      "            \"start\": 56,\n",
      "            \"end\": 67\n",
      "        },\n",
      "        {\n",
      "            \"cycle\": \"\",\n",
      "            \"within_cycle\": false,\n",
      "            \"start\": 67,\n",
      "            \"end\": 68\n",
      "        },\n",
      "        {\n",
      "            \"cycle\": \"6\",\n",
      "            \"within_cycle\": true,\n",
      "            \"start\": 68,\n",
      "            \"end\": 80\n",
      "        },\n",
      "        {\n",
      "            \"cycle\": \"\",\n",
      "            \"within_cycle\": false,\n",
      "            \"start\": 80,\n",
      "            \"end\": 81\n",
      "        }\n",
      "    ]\n",
      "}\n",
      "original final burnup and time 58854 2903.3\n",
      "new final burnup and time (same) 58854.0 2903.3\n"
     ]
    },
    {
     "data": {
      "image/png": "[encoded data removed]",
      "text/plain": [
       "<Figure size 640x480 with 1 Axes>"
      ]
     },
     "metadata": {},
     "output_type": "display_data"
    }
   ],
   "source": [
    "import scale.olm as olm\n",
    "import matplotlib.pyplot as plt\n",
    "import json\n",
    "\n",
    "time0=[0,351,714,715,716.5,718.5,719.5,720.5,830.5,831,907,907.5,930.5,930.7,934.2,934.7,1004.2,1021.8,1021.8,1073,1073.5,1075.5,1077,1078,1079,1081.5,1082,1094,1094.5,1146,1147,1285,1285.2,1368.2,1369.2,1435.2,1435.2,1507,1507.5,1509.5,1511.5,1513.5,1548.5,1586.5,1587.5,1716.7,1716.7,1817,1825,1893.9,1896.4,1900.4,1905.4,1907.4,1967.3,2027.2,2087.1,2137,2157,2157,2205,2211,2213,2214,2300.7,2387.3,2474,2475,2519.8,2520.9,2537.7,2539.3,2539.3,2569.3,2577.1,2637.7,2638.7,2696.3,2753.9,2754.9,2808.6,2809.6,2875,2876,2896.5,2897.5,2897.5,2903.3]\n",
    "burnup0=[0,0,0,7,30,77,110,126,3685,3697,6143,6150,6869,6872,6981,6993,9184,9719,9719,9719,9722,9748,9778,9804,9831,9899,9909,10239,10249,11665,11685,15448,15452,17699,17712,19515,19515,19515,19519,19547,19593,19650,20756,21945,21960,25834,25834,25834,25988,28747,28798,28956,29157,29196,31537,33886,36179,38051,38658,38658,38658,38747,38794,38819,41793,44779,47713,47728,49175,49211,49740,49762,49762,49762,49861,51491,51504,53110,54796,54817,56367,56380,58257,58286,58842,58854,58854,58854]\n",
    "bh = olm.core.BurnupHistory(time0, burnup0)\n",
    "\n",
    "bh.plot_power_history(label='original')\n",
    "\n",
    "x = bh.classify_operations(min_shutdown_time=10.0)\n",
    "\n",
    "new_time = bh.get_cycle_time(x)\n",
    "\n",
    "bh2 = bh.regrid(new_time)\n",
    "bh2.plot_power_history(label='regrid',add_to_existing=True)\n",
    "\n",
    "lines = plt.gca().lines\n",
    "plt.setp(lines[0], linestyle='-', color='red', linewidth=1)\n",
    "plt.setp(lines[1], linestyle='dashed', color='blue', linewidth=2)\n",
    "plt.legend()\n",
    "print(\"original final burnup and time\",bh.burnup[-1], bh.time[-1])\n",
    "print(\"new final burnup and time (same)\", bh2.burnup[-1], bh2.time[-1] )"
   ]
  },
  {
   "cell_type": "code",
   "execution_count": 20,
   "id": "31dcf3cf",
   "metadata": {},
   "outputs": [
    {
     "name": "stdout",
     "output_type": "stream",
     "text": [
      "{\n",
      "    \"options\": {\n",
      "        \"min_shutdown_time\": 0.0,\n",
      "        \"min_shutdown_power\": 0.0,\n",
      "        \"starts_within_cycle\": null\n",
      "    },\n",
      "    \"operations\": [\n",
      "        {\n",
      "            \"cycle\": \"\",\n",
      "            \"within_cycle\": false,\n",
      "            \"start\": 0,\n",
      "            \"end\": 1\n",
      "        },\n",
      "        {\n",
      "            \"cycle\": \"1\",\n",
      "            \"within_cycle\": true,\n",
      "            \"start\": 1,\n",
      "            \"end\": 3\n",
      "        },\n",
      "        {\n",
      "            \"cycle\": \"\",\n",
      "            \"within_cycle\": false,\n",
      "            \"start\": 3,\n",
      "            \"end\": 4\n",
      "        },\n",
      "        {\n",
      "            \"cycle\": \"2\",\n",
      "            \"within_cycle\": true,\n",
      "            \"start\": 4,\n",
      "            \"end\": 5\n",
      "        },\n",
      "        {\n",
      "            \"cycle\": \"\",\n",
      "            \"within_cycle\": false,\n",
      "            \"start\": 5,\n",
      "            \"end\": 6\n",
      "        }\n",
      "    ]\n",
      "}\n"
     ]
    }
   ],
   "source": [
    "time =   [0, 5,  10,  50,  55,  100,  105]\n",
    "burnup = [0, 0, 100, 500, 500, 1000, 1000]\n",
    "bh = olm.core.BurnupHistory(time, burnup)\n",
    "\n",
    "bh.interval_time\n",
    "\n",
    "bh.interval_power\n",
    "\n",
    "x = bh.classify_operations()\n",
    "\n",
    "print(json.dumps(x,indent=4))"
   ]
  },
  {
   "cell_type": "code",
   "execution_count": null,
   "id": "755c4fc5",
   "metadata": {},
   "outputs": [],
   "source": [
    "print(bh2.interval_time,bh2.interval_power)\n",
    "plt.step(bh.time,[bh.interval_power[0],*bh.interval_power],where='pre')\n",
    "plt.step(bh2.time,[bh2.interval_power[0],*bh2.interval_power],where='pre')"
   ]
  },
  {
   "cell_type": "code",
   "execution_count": null,
   "id": "226da693",
   "metadata": {},
   "outputs": [],
   "source": [
    "time0=[0,351,714,715,716.5,718.5,719.5,720.5,830.5,831,907,907.5,930.5,930.7,934.2,934.7,1004.2,1021.8,1021.8,1073,1073.5,1075.5,1077,1078,1079,1081.5,1082,1094,1094.5,1146,1147,1285,1285.2,1368.2,1369.2,1435.2,1435.2,1507,1507.5,1509.5,1511.5,1513.5,1548.5,1586.5,1587.5,1716.7,1716.7,1817,1825,1893.9,1896.4,1900.4,1905.4,1907.4,1967.3,2027.2,2087.1,2137,2157,2157,2205,2211,2213,2214,2300.7,2387.3,2474,2475,2519.8,2520.9,2537.7,2539.3,2539.3,2569.3,2577.1,2637.7,2638.7,2696.3,2753.9,2754.9,2808.6,2809.6,2875,2876,2896.5,2897.5,2897.5,2903.3]\n",
    "burnup0=[0,0,0,7,30,77,110,126,3685,3697,6143,6150,6869,6872,6981,6993,9184,9719,9719,9719,9722,9748,9778,9804,9831,9899,9909,10239,10249,11665,11685,15448,15452,17699,17712,19515,19515,19515,19519,19547,19593,19650,20756,21945,21960,25834,25834,25834,25988,28747,28798,28956,29157,29196,31537,33886,36179,38051,38658,38658,38658,38747,38794,38819,41793,44779,47713,47728,49175,49211,49740,49762,49762,49762,49861,51491,51504,53110,54796,54817,56367,56380,58257,58286,58842,58854,58854,58854]\n",
    "bh = olm.core.BurnupHistory(time0,burnup0)\n",
    "c=0\n",
    "start_decay = 0\n",
    "all_intervals=[]\n",
    "tlabel=\"pre\"\n",
    "for s in bh.identify_cycles():\n",
    "    c+=1\n",
    "    all_intervals.append([start_decay,s[0],tlabel])\n",
    "    #for i in range(s[0],s[1]):\n",
    "        #print(c,i,bh.interval_time[i], bh.interval_power[i])\n",
    "    tlabel = \"cycle\"+str(c)+\"-up\"\n",
    "    all_intervals.append([s[0],s[1],tlabel])\n",
    "    tlabel = \"cycle\"+str(c)+\"-down\"\n",
    "    start_decay=s[1]\n",
    "all_intervals.append([start_decay,len(bh.interval_time),\"post\"])\n",
    "import json\n",
    "print(json.dumps(all_intervals,indent=4))"
   ]
  },
  {
   "cell_type": "code",
   "execution_count": null,
   "id": "2585b8a9",
   "metadata": {},
   "outputs": [],
   "source": []
  },
  {
   "cell_type": "code",
   "execution_count": null,
   "id": "aed9e8ba",
   "metadata": {},
   "outputs": [],
   "source": [
    "p9_list = np.linspace(68,75,10)"
   ]
  },
  {
   "cell_type": "code",
   "execution_count": null,
   "id": "19221346",
   "metadata": {},
   "outputs": [],
   "source": [
    "fp_list=[]\n",
    "uo2 = {\"iso\": {\"u235\": 0.231, \"u236\": 1e-10, \"u234\": 1e-10, \"u238\": 100-0.231}}\n",
    "am241=1.0\n",
    "target_p=5.5\n",
    "for pu239_frac in p9_list:\n",
    "    x=olm.generate.comp_mox_ornltm2003_2(state={\"pu239_frac\": pu239_frac, \"pu_frac\": target_p}, \n",
    "                                         density=10.4, \n",
    "                                         uo2=uo2, \n",
    "                                         am241=am241)\n",
    "    iso = x['puo2']['iso']\n",
    "    fp_list.append( iso['pu239']+iso['pu241'])"
   ]
  },
  {
   "cell_type": "code",
   "execution_count": null,
   "id": "46c5f404",
   "metadata": {},
   "outputs": [],
   "source": [
    "plt.plot(p9_list,fp_list)\n",
    "plt.xlabel('pu239')\n",
    "plt.ylabel('pu239+pu241')"
   ]
  },
  {
   "cell_type": "code",
   "execution_count": null,
   "id": "f3680930",
   "metadata": {},
   "outputs": [],
   "source": [
    "conv=np.asarray(p9_list)/np.asarray(fp_list)\n",
    "plt.plot(fp_list,conv)\n",
    "plt.xlabel('pu239+pu241')\n",
    "plt.ylabel('pu239/(pu239+pu241)')"
   ]
  },
  {
   "cell_type": "code",
   "execution_count": null,
   "id": "d0ebe349",
   "metadata": {},
   "outputs": [],
   "source": [
    "target_fp=72.64\n",
    "fp_to_p9 = np.interp([target_fp],fp_list,conv)[0]"
   ]
  },
  {
   "cell_type": "code",
   "execution_count": null,
   "id": "fb14839c",
   "metadata": {},
   "outputs": [],
   "source": [
    "target_p9 = fp_to_p9*target_fp\n",
    "print(\"pu239_frac that will lead to target fissile content\", target_p9)"
   ]
  },
  {
   "cell_type": "code",
   "execution_count": null,
   "id": "563b7159",
   "metadata": {},
   "outputs": [],
   "source": [
    "x=olm.generate.comp_mox_ornltm2003_2(state={\"pu239_frac\": target_p9, \"pu_frac\": target_p}, \n",
    "                                     density=10.4, \n",
    "                                     uo2=uo2, \n",
    "                                     am241=am241)"
   ]
  },
  {
   "cell_type": "code",
   "execution_count": null,
   "id": "7c9cbdc6",
   "metadata": {},
   "outputs": [],
   "source": []
  },
  {
   "cell_type": "code",
   "execution_count": null,
   "id": "10324581",
   "metadata": {},
   "outputs": [],
   "source": [
    "olm.common.get_template_names()\n",
    "txt = olm.common.load_template('{olm_templates_path}/check/LowOrderConsistency/MOX.inp')\n",
    "#print(txt)\n",
    "data={\n",
    "    \"_\": {\n",
    "        \"env\": {\"work_dir\": \"\"}, \n",
    "        \"model\": {\"name\": \"mox_w14x14\"}\n",
    "    },\n",
    "    \"_arpinfo\": {\n",
    "        \"interpvars\": {\n",
    "            \"mod_dens\": 0.75\n",
    "        } \n",
    "    }, \n",
    "    \"comp\": {\"system\": x }, \n",
    "    \"history\": {\n",
    "        \"initialhm\": 1, \n",
    "        \"burndata\": [\n",
    "            {\"power\": 40, \"burn\": 100}\n",
    "        ]\n",
    "    }\n",
    "}\n",
    "print(olm.common.expand_template(txt,data))"
   ]
  },
  {
   "cell_type": "code",
   "execution_count": null,
   "id": "a7043528",
   "metadata": {},
   "outputs": [],
   "source": [
    "td = olm.core.TempDir()\n",
    "scalerte = olm.core.ScaleRte(\"/Users/Shared/ornldev/code/scale/builds/release/INSTALL/bin/scalerte\")"
   ]
  },
  {
   "cell_type": "code",
   "execution_count": null,
   "id": "dcddffe1",
   "metadata": {},
   "outputs": [],
   "source": [
    "import scipy as sp\n",
    "time0=[0,351,714,715,716.5,718.5,719.5,720.5,830.5,831,907,907.5,930.5,930.7,934.2,934.7,1004.2,1021.8,1021.8,1073,1073.5,1075.5,1077,1078,1079,1081.5,1082,1094,1094.5,1146,1147,1285,1285.2,1368.2,1369.2,1435.2,1435.2,1507,1507.5,1509.5,1511.5,1513.5,1548.5,1586.5,1587.5,1716.7,1716.7,1817,1825,1893.9,1896.4,1900.4,1905.4,1907.4,1967.3,2027.2,2087.1,2137,2157,2157,2205,2211,2213,2214,2300.7,2387.3,2474,2475,2519.8,2520.9,2537.7,2539.3,2539.3,2569.3,2577.1,2637.7,2638.7,2696.3,2753.9,2754.9,2808.6,2809.6,2875,2876,2896.5,2897.5,2897.5,2903.3]\n",
    "burnup0=[0,0,0,7,30,77,110,126,3685,3697,6143,6150,6869,6872,6981,6993,9184,9719,9719,9719,9722,9748,9778,9804,9831,9899,9909,10239,10249,11665,11685,15448,15452,17699,17712,19515,19515,19515,19519,19547,19593,19650,20756,21945,21960,25834,25834,25834,25988,28747,28798,28956,29157,29196,31537,33886,36179,38051,38658,38658,38658,38747,38794,38819,41793,44779,47713,47728,49175,49211,49740,49762,49762,49762,49861,51491,51504,53110,54796,54817,56367,56380,58257,58286,58842,58854,58854,58854]\n",
    "time=[0]\n",
    "burnup=[0]\n",
    "for j in range(1,len(time0)):\n",
    "    if time0[j]-time0[j-1]>0:\n",
    "        time.append(time0[j])\n",
    "        burnup.append(burnup0[j])\n",
    "plt.plot(bh.time,bh.burnup)\n",
    "print(bh.intervals)"
   ]
  },
  {
   "cell_type": "code",
   "execution_count": null,
   "id": "6e0bad03",
   "metadata": {},
   "outputs": [],
   "source": [
    "import copy\n",
    "def sebastian(a, b, kind='mergesort'):\n",
    "    # took mergesort as it seemed a tiny bit faster for my sorted large array try.\n",
    "    c = np.concatenate((a, b)) # we still need to do this unfortunatly.\n",
    "    c.sort(kind=kind)\n",
    "    flag = np.ones(len(c), dtype=bool)\n",
    "    np.not_equal(c[1:], c[:-1], out=flag[1:])\n",
    "    return c[flag]\n",
    "ius = sp.interpolate.InterpolatedUnivariateSpline(time,burnup,k=1)\n",
    "a, = np.where(np.diff(burnup)==0)\n",
    "intervals=[]\n",
    "for x in a:\n",
    "    intervals.append([x,x+1])\n",
    "print('j0',intervals)\n",
    "intervals2 = [ list(intervals[0]) ]\n",
    "for i in range(1,len(intervals)):\n",
    "    if intervals2[-1][1]==intervals[i][0]:\n",
    "        intervals2[-1][1] = intervals[i][1]\n",
    "    else:\n",
    "        intervals2.append(list(intervals[i]))\n",
    "print('i0',intervals)\n",
    "print('i1',intervals2)"
   ]
  },
  {
   "cell_type": "code",
   "execution_count": null,
   "id": "037d0296",
   "metadata": {},
   "outputs": [],
   "source": [
    "z, = np.where(np.diff(burnup)>0)\n",
    "print(z)\n",
    "power_interval = [[z[0],None]]\n",
    "for i in range(len(z)):\n",
    "    power_interval[-1][1] = z[i]\n",
    "print(power_interval)"
   ]
  },
  {
   "cell_type": "code",
   "execution_count": null,
   "id": "8afad4b0",
   "metadata": {},
   "outputs": [],
   "source": [
    "burnup[2:19], burnup[17]-burnup[2]"
   ]
  },
  {
   "cell_type": "code",
   "execution_count": null,
   "id": "b4bb7539",
   "metadata": {},
   "outputs": [],
   "source": [
    "interval = [0,1]"
   ]
  },
  {
   "cell_type": "code",
   "execution_count": null,
   "id": "4fea69b6",
   "metadata": {},
   "outputs": [],
   "source": [
    "grid = sebastian(time,np.linspace(time[0],time[-1],10000))\n",
    "dius = ius.derivative()\n",
    "plt.plot(grid,ius(grid))"
   ]
  },
  {
   "cell_type": "code",
   "execution_count": null,
   "id": "03ff2e6d",
   "metadata": {},
   "outputs": [],
   "source": [
    "plt.plot(grid,dius(grid))"
   ]
  },
  {
   "cell_type": "code",
   "execution_count": null,
   "id": "9013cc0e",
   "metadata": {},
   "outputs": [],
   "source": [
    "power = np.diff(burnup)/np.diff(time)\n",
    "plt.step(time[1:],power)"
   ]
  },
  {
   "cell_type": "code",
   "execution_count": null,
   "id": "d248f55e",
   "metadata": {},
   "outputs": [],
   "source": []
  }
 ],
 "metadata": {
  "kernelspec": {
   "display_name": "Python 3 (ipykernel)",
   "language": "python",
   "name": "python3"
  },
  "language_info": {
   "codemirror_mode": {
    "name": "ipython",
    "version": 3
   },
   "file_extension": ".py",
   "mimetype": "text/x-python",
   "name": "python",
   "nbconvert_exporter": "python",
   "pygments_lexer": "ipython3",
   "version": "3.9.6"
  }
 },
 "nbformat": 4,
 "nbformat_minor": 5
}
