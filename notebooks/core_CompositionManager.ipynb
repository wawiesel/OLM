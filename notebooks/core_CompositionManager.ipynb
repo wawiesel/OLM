{
 "cells": [
  {
   "cell_type": "markdown",
   "id": "20d44050-6436-4c07-9ae5-323ed91e9936",
   "metadata": {
    "slideshow": {
     "slide_type": ""
    },
    "tags": []
   },
   "source": [
    "# CompositionManager Usage"
   ]
  },
  {
   "cell_type": "code",
   "execution_count": 1,
   "id": "8f1c1088",
   "metadata": {
    "slideshow": {
     "slide_type": ""
    },
    "tags": []
   },
   "outputs": [],
   "source": [
    "import numpy as np\n",
    "import sys\n",
    "import os\n",
    "import sys\n",
    "import matplotlib.pyplot as plt\n",
    "from pathlib import Path\n",
    "import scale.olm as olm\n",
    "import json\n",
    "import local\n",
    "data_file=local.data() / 'nuclide_data-scale6_3.json'\n",
    "with open(data_file,'r') as f:\n",
    "    data = json.load(f)"
   ]
  },
  {
   "cell_type": "code",
   "execution_count": 3,
   "id": "2ef36b30",
   "metadata": {
    "slideshow": {
     "slide_type": ""
    },
    "tags": []
   },
   "outputs": [],
   "source": [
    "cm = olm.core.CompositionManager(data)"
   ]
  },
  {
   "cell_type": "code",
   "execution_count": 4,
   "id": "31dcf3cf",
   "metadata": {
    "slideshow": {
     "slide_type": ""
    },
    "tags": []
   },
   "outputs": [
    {
     "data": {
      "text/plain": [
       "238.049560546875"
      ]
     },
     "execution_count": 4,
     "metadata": {},
     "output_type": "execute_result"
    }
   ],
   "source": [
    "cm.mass('pu238')"
   ]
  },
  {
   "cell_type": "code",
   "execution_count": 5,
   "id": "d248f55e",
   "metadata": {
    "slideshow": {
     "slide_type": ""
    },
    "tags": []
   },
   "outputs": [
    {
     "data": {
      "text/plain": [
       "'u235m'"
      ]
     },
     "execution_count": 5,
     "metadata": {},
     "output_type": "execute_result"
    }
   ],
   "source": [
    "cm.eam('1092235')"
   ]
  },
  {
   "cell_type": "code",
   "execution_count": 6,
   "id": "6b6fda99-4006-4a2c-8b74-781e748dae6a",
   "metadata": {
    "slideshow": {
     "slide_type": ""
    },
    "tags": []
   },
   "outputs": [
    {
     "data": {
      "text/plain": [
       "'1092235'"
      ]
     },
     "execution_count": 6,
     "metadata": {},
     "output_type": "execute_result"
    }
   ],
   "source": [
    "cm.izzzaaa('u235m')"
   ]
  },
  {
   "cell_type": "code",
   "execution_count": 7,
   "id": "5f35844e-5403-4430-ab0d-55d1e04e2547",
   "metadata": {
    "slideshow": {
     "slide_type": ""
    },
    "tags": []
   },
   "outputs": [
    {
     "data": {
      "text/plain": [
       "-4.57763671875e-05"
      ]
     },
     "execution_count": 7,
     "metadata": {},
     "output_type": "execute_result"
    }
   ],
   "source": [
    "cm.mass('am242m') - cm.mass('am242')"
   ]
  }
 ],
 "metadata": {
  "kernelspec": {
   "display_name": "Python 3 (ipykernel)",
   "language": "python",
   "name": "python3"
  },
  "language_info": {
   "codemirror_mode": {
    "name": "ipython",
    "version": 3
   },
   "file_extension": ".py",
   "mimetype": "text/x-python",
   "name": "python",
   "nbconvert_exporter": "python",
   "pygments_lexer": "ipython3",
   "version": "3.11.5"
  }
 },
 "nbformat": 4,
 "nbformat_minor": 5
}
