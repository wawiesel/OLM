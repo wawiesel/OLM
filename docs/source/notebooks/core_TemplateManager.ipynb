{
 "cells": [
  {
   "cell_type": "markdown",
   "id": "a9b126a4-8fbf-4328-9c2b-c151fac1d6a4",
   "metadata": {
    "editable": true,
    "slideshow": {
     "slide_type": ""
    },
    "tags": []
   },
   "source": [
    "# TempDir Usage"
   ]
  },
  {
   "cell_type": "code",
   "execution_count": 1,
   "id": "779de768",
   "metadata": {
    "editable": true,
    "slideshow": {
     "slide_type": ""
    },
    "tags": [
     "init"
    ]
   },
   "outputs": [],
   "source": [
    "from scale.olm.core import TempDir, TemplateManager\n",
    "import matplotlib.pyplot as plt\n",
    "import json\n",
    "from pathlib import Path"
   ]
  },
  {
   "cell_type": "code",
   "execution_count": 4,
   "id": "8023ba10-5f92-4779-9b70-22dc6387d7e0",
   "metadata": {},
   "outputs": [],
   "source": [
    "td = TempDir()\n",
    "td.write_file(\"Hello {{noun}}.\",\"line1.jt.inp\")\n",
    "subdir = td.path / 'y' / 'z'\n",
    "subdir.mkdir(parents=True)\n",
    "td.write_file(\"Is there {{noun}} out there?\",\"y/z/line2.jt.inp\")\n",
    "tm = TemplateManager(paths=[td.path],include_env=False)"
   ]
  },
  {
   "cell_type": "code",
   "execution_count": 5,
   "id": "f1b3f828",
   "metadata": {
    "slideshow": {
     "slide_type": ""
    },
    "tags": []
   },
   "outputs": [
    {
     "data": {
      "text/plain": [
       "['line1.jt.inp', 'y/z/line2.jt.inp']"
      ]
     },
     "execution_count": 5,
     "metadata": {},
     "output_type": "execute_result"
    }
   ],
   "source": [
    "tm.names()"
   ]
  },
  {
   "cell_type": "code",
   "execution_count": 8,
   "id": "f16ec341-5f03-4a08-98c1-f305692e3700",
   "metadata": {},
   "outputs": [
    {
     "data": {
      "text/plain": [
       "'Hello hello.'"
      ]
     },
     "execution_count": 8,
     "metadata": {},
     "output_type": "execute_result"
    }
   ],
   "source": [
    "tm.expand('line1.jt.inp',{\"noun\":\"hello\"})"
   ]
  },
  {
   "cell_type": "code",
   "execution_count": 9,
   "id": "8903a11b",
   "metadata": {},
   "outputs": [
    {
     "data": {
      "text/plain": [
       "'Is there anybody out there?'"
      ]
     },
     "execution_count": 9,
     "metadata": {},
     "output_type": "execute_result"
    }
   ],
   "source": [
    "tm.expand('y/z/line2.jt.inp',{\"noun\":\"anybody\"})"
   ]
  },
  {
   "cell_type": "code",
   "execution_count": null,
   "id": "b9223a3e",
   "metadata": {},
   "outputs": [],
   "source": []
  }
 ],
 "metadata": {
  "kernelspec": {
   "display_name": "venv",
   "language": "python",
   "name": "venv"
  },
  "language_info": {
   "codemirror_mode": {
    "name": "ipython",
    "version": 3
   },
   "file_extension": ".py",
   "mimetype": "text/x-python",
   "name": "python",
   "nbconvert_exporter": "python",
   "pygments_lexer": "ipython3",
   "version": "3.11.5"
  }
 },
 "nbformat": 4,
 "nbformat_minor": 5
}
