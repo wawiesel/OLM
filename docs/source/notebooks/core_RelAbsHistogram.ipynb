{
 "cells": [
  {
   "cell_type": "markdown",
   "id": "ad3fb55b-10f8-4bf3-af0e-7335d96a369d",
   "metadata": {
    "editable": true,
    "slideshow": {
     "slide_type": ""
    },
    "tags": []
   },
   "source": [
    "# RelAbsHistogram Usage"
   ]
  },
  {
   "cell_type": "code",
   "execution_count": null,
   "id": "8f1c1088",
   "metadata": {
    "editable": true,
    "slideshow": {
     "slide_type": ""
    },
    "tags": []
   },
   "outputs": [],
   "source": [
    "!pip list"
   ]
  },
  {
   "cell_type": "code",
   "execution_count": 1,
   "id": "46c5f404",
   "metadata": {
    "editable": true,
    "slideshow": {
     "slide_type": ""
    },
    "tags": []
   },
   "outputs": [
    {
     "name": "stdout",
     "output_type": "stream",
     "text": [
      "\u001b[2m2023-08-22 18:26:19\u001b[0m [\u001b[32m\u001b[1minfo     \u001b[0m] \u001b[1mInitialized scale.olm\u001b[0m\n"
     ]
    }
   ],
   "source": [
    "import numpy as np\n",
    "import sys\n",
    "import scale.olm as olm\n",
    "from pathlib import Path\n",
    "import matplotlib.pyplot as plt"
   ]
  },
  {
   "cell_type": "code",
   "execution_count": 2,
   "id": "f3680930",
   "metadata": {},
   "outputs": [
    {
     "name": "stdout",
     "output_type": "stream",
     "text": [
      "\u001b[2m2023-08-22 18:26:19\u001b[0m [\u001b[32m\u001b[1minfo     \u001b[0m] \u001b[1mWriting input file=/Users/ww5/dev/scale/olm/examples/quick2/_build/check/check-origami/perm00/perm00.inp for LowOrderConsistency check\u001b[0m\n",
      "\u001b[2m2023-08-22 18:26:19\u001b[0m [\u001b[32m\u001b[1minfo     \u001b[0m] \u001b[1mWriting input file=/Users/ww5/dev/scale/olm/examples/quick2/_build/check/check-origami/perm01/perm01.inp for LowOrderConsistency check\u001b[0m\n",
      "\u001b[2m2023-08-22 18:26:19\u001b[0m [\u001b[32m\u001b[1minfo     \u001b[0m] \u001b[1mWriting input file=/Users/ww5/dev/scale/olm/examples/quick2/_build/check/check-origami/perm02/perm02.inp for LowOrderConsistency check\u001b[0m\n",
      "\u001b[2m2023-08-22 18:26:19\u001b[0m [\u001b[32m\u001b[1minfo     \u001b[0m] \u001b[1mWriting input file=/Users/ww5/dev/scale/olm/examples/quick2/_build/check/check-origami/perm03/perm03.inp for LowOrderConsistency check\u001b[0m\n",
      "\u001b[2m2023-08-22 18:26:19\u001b[0m [\u001b[32m\u001b[1minfo     \u001b[0m] \u001b[1mWriting input file=/Users/ww5/dev/scale/olm/examples/quick2/_build/check/check-origami/perm04/perm04.inp for LowOrderConsistency check\u001b[0m\n",
      "\u001b[2m2023-08-22 18:26:19\u001b[0m [\u001b[32m\u001b[1minfo     \u001b[0m] \u001b[1mWriting input file=/Users/ww5/dev/scale/olm/examples/quick2/_build/check/check-origami/perm05/perm05.inp for LowOrderConsistency check\u001b[0m\n",
      "\u001b[2m2023-08-22 18:26:19\u001b[0m [\u001b[32m\u001b[1minfo     \u001b[0m] \u001b[1mWriting input file=/Users/ww5/dev/scale/olm/examples/quick2/_build/check/check-origami/perm06/perm06.inp for LowOrderConsistency check\u001b[0m\n",
      "\u001b[2m2023-08-22 18:26:19\u001b[0m [\u001b[32m\u001b[1minfo     \u001b[0m] \u001b[1mWriting input file=/Users/ww5/dev/scale/olm/examples/quick2/_build/check/check-origami/perm07/perm07.inp for LowOrderConsistency check\u001b[0m\n",
      "\u001b[2m2023-08-22 18:26:19\u001b[0m [\u001b[32m\u001b[1minfo     \u001b[0m] \u001b[1mWriting input file=/Users/ww5/dev/scale/olm/examples/quick2/_build/check/check-origami/perm08/perm08.inp for LowOrderConsistency check\u001b[0m\n",
      "\u001b[2m2023-08-22 18:26:19\u001b[0m [\u001b[32m\u001b[1minfo     \u001b[0m] \u001b[1mWriting input file=/Users/ww5/dev/scale/olm/examples/quick2/_build/check/check-origami/perm09/perm09.inp for LowOrderConsistency check\u001b[0m\n",
      "\u001b[2m2023-08-22 18:26:19\u001b[0m [\u001b[32m\u001b[1minfo     \u001b[0m] \u001b[1mWriting input file=/Users/ww5/dev/scale/olm/examples/quick2/_build/check/check-origami/perm10/perm10.inp for LowOrderConsistency check\u001b[0m\n",
      "\u001b[2m2023-08-22 18:26:19\u001b[0m [\u001b[32m\u001b[1minfo     \u001b[0m] \u001b[1mWriting input file=/Users/ww5/dev/scale/olm/examples/quick2/_build/check/check-origami/perm11/perm11.inp for LowOrderConsistency check\u001b[0m\n",
      "\u001b[2m2023-08-22 18:26:19\u001b[0m [\u001b[32m\u001b[1minfo     \u001b[0m] \u001b[1mrunning command:\n",
      "/Applications/SCALE-6.3.1.app/Contents/Resources/bin/obiwan view -format=ii.json /Users/ww5/dev/scale/olm/examples/quick2/_build/perm00/perm00.f71 -cases='[-2]' >/Users/ww5/dev/scale/olm/examples/quick2/_build/perm00/perm00.ii.json\u001b[0m\n",
      "\u001b[2m2023-08-22 18:26:20\u001b[0m [\u001b[32m\u001b[1minfo     \u001b[0m] \u001b[1m\u001b[0m\n",
      "\u001b[2m2023-08-22 18:26:20\u001b[0m [\u001b[32m\u001b[1minfo     \u001b[0m] \u001b[1mrunning command:\n",
      "/Applications/SCALE-6.3.1.app/Contents/Resources/bin/obiwan view -format=ii.json /Users/ww5/dev/scale/olm/examples/quick2/_build/check/check-origami/perm00/perm00.f71 >/Users/ww5/dev/scale/olm/examples/quick2/_build/check/check-origami/perm00/perm00.ii.json\u001b[0m\n",
      "\u001b[2m2023-08-22 18:26:20\u001b[0m [\u001b[32m\u001b[1minfo     \u001b[0m] \u001b[1m\u001b[0m\n",
      "\u001b[2m2023-08-22 18:26:20\u001b[0m [\u001b[32m\u001b[1minfo     \u001b[0m] \u001b[1mrunning command:\n",
      "/Applications/SCALE-6.3.1.app/Contents/Resources/bin/obiwan view -format=ii.json /Users/ww5/dev/scale/olm/examples/quick2/_build/perm01/perm01.f71 -cases='[-2]' >/Users/ww5/dev/scale/olm/examples/quick2/_build/perm01/perm01.ii.json\u001b[0m\n",
      "\u001b[2m2023-08-22 18:26:21\u001b[0m [\u001b[32m\u001b[1minfo     \u001b[0m] \u001b[1m\u001b[0m\n",
      "\u001b[2m2023-08-22 18:26:21\u001b[0m [\u001b[32m\u001b[1minfo     \u001b[0m] \u001b[1mrunning command:\n",
      "/Applications/SCALE-6.3.1.app/Contents/Resources/bin/obiwan view -format=ii.json /Users/ww5/dev/scale/olm/examples/quick2/_build/check/check-origami/perm01/perm01.f71 >/Users/ww5/dev/scale/olm/examples/quick2/_build/check/check-origami/perm01/perm01.ii.json\u001b[0m\n",
      "\u001b[2m2023-08-22 18:26:21\u001b[0m [\u001b[32m\u001b[1minfo     \u001b[0m] \u001b[1m\u001b[0m\n",
      "\u001b[2m2023-08-22 18:26:21\u001b[0m [\u001b[32m\u001b[1minfo     \u001b[0m] \u001b[1mrunning command:\n",
      "/Applications/SCALE-6.3.1.app/Contents/Resources/bin/obiwan view -format=ii.json /Users/ww5/dev/scale/olm/examples/quick2/_build/perm02/perm02.f71 -cases='[-2]' >/Users/ww5/dev/scale/olm/examples/quick2/_build/perm02/perm02.ii.json\u001b[0m\n",
      "\u001b[2m2023-08-22 18:26:22\u001b[0m [\u001b[32m\u001b[1minfo     \u001b[0m] \u001b[1m\u001b[0m\n",
      "\u001b[2m2023-08-22 18:26:22\u001b[0m [\u001b[32m\u001b[1minfo     \u001b[0m] \u001b[1mrunning command:\n",
      "/Applications/SCALE-6.3.1.app/Contents/Resources/bin/obiwan view -format=ii.json /Users/ww5/dev/scale/olm/examples/quick2/_build/check/check-origami/perm02/perm02.f71 >/Users/ww5/dev/scale/olm/examples/quick2/_build/check/check-origami/perm02/perm02.ii.json\u001b[0m\n",
      "\u001b[2m2023-08-22 18:26:22\u001b[0m [\u001b[32m\u001b[1minfo     \u001b[0m] \u001b[1m\u001b[0m\n",
      "\u001b[2m2023-08-22 18:26:22\u001b[0m [\u001b[32m\u001b[1minfo     \u001b[0m] \u001b[1mrunning command:\n",
      "/Applications/SCALE-6.3.1.app/Contents/Resources/bin/obiwan view -format=ii.json /Users/ww5/dev/scale/olm/examples/quick2/_build/perm03/perm03.f71 -cases='[-2]' >/Users/ww5/dev/scale/olm/examples/quick2/_build/perm03/perm03.ii.json\u001b[0m\n",
      "\u001b[2m2023-08-22 18:26:23\u001b[0m [\u001b[32m\u001b[1minfo     \u001b[0m] \u001b[1m\u001b[0m\n",
      "\u001b[2m2023-08-22 18:26:23\u001b[0m [\u001b[32m\u001b[1minfo     \u001b[0m] \u001b[1mrunning command:\n",
      "/Applications/SCALE-6.3.1.app/Contents/Resources/bin/obiwan view -format=ii.json /Users/ww5/dev/scale/olm/examples/quick2/_build/check/check-origami/perm03/perm03.f71 >/Users/ww5/dev/scale/olm/examples/quick2/_build/check/check-origami/perm03/perm03.ii.json\u001b[0m\n",
      "\u001b[2m2023-08-22 18:26:23\u001b[0m [\u001b[32m\u001b[1minfo     \u001b[0m] \u001b[1m\u001b[0m\n",
      "\u001b[2m2023-08-22 18:26:23\u001b[0m [\u001b[32m\u001b[1minfo     \u001b[0m] \u001b[1mrunning command:\n",
      "/Applications/SCALE-6.3.1.app/Contents/Resources/bin/obiwan view -format=ii.json /Users/ww5/dev/scale/olm/examples/quick2/_build/perm04/perm04.f71 -cases='[-2]' >/Users/ww5/dev/scale/olm/examples/quick2/_build/perm04/perm04.ii.json\u001b[0m\n",
      "\u001b[2m2023-08-22 18:26:24\u001b[0m [\u001b[32m\u001b[1minfo     \u001b[0m] \u001b[1m\u001b[0m\n",
      "\u001b[2m2023-08-22 18:26:24\u001b[0m [\u001b[32m\u001b[1minfo     \u001b[0m] \u001b[1mrunning command:\n",
      "/Applications/SCALE-6.3.1.app/Contents/Resources/bin/obiwan view -format=ii.json /Users/ww5/dev/scale/olm/examples/quick2/_build/check/check-origami/perm04/perm04.f71 >/Users/ww5/dev/scale/olm/examples/quick2/_build/check/check-origami/perm04/perm04.ii.json\u001b[0m\n",
      "\u001b[2m2023-08-22 18:26:25\u001b[0m [\u001b[32m\u001b[1minfo     \u001b[0m] \u001b[1m\u001b[0m\n",
      "\u001b[2m2023-08-22 18:26:25\u001b[0m [\u001b[32m\u001b[1minfo     \u001b[0m] \u001b[1mrunning command:\n",
      "/Applications/SCALE-6.3.1.app/Contents/Resources/bin/obiwan view -format=ii.json /Users/ww5/dev/scale/olm/examples/quick2/_build/perm05/perm05.f71 -cases='[-2]' >/Users/ww5/dev/scale/olm/examples/quick2/_build/perm05/perm05.ii.json\u001b[0m\n",
      "\u001b[2m2023-08-22 18:26:25\u001b[0m [\u001b[32m\u001b[1minfo     \u001b[0m] \u001b[1m\u001b[0m\n",
      "\u001b[2m2023-08-22 18:26:25\u001b[0m [\u001b[32m\u001b[1minfo     \u001b[0m] \u001b[1mrunning command:\n",
      "/Applications/SCALE-6.3.1.app/Contents/Resources/bin/obiwan view -format=ii.json /Users/ww5/dev/scale/olm/examples/quick2/_build/check/check-origami/perm05/perm05.f71 >/Users/ww5/dev/scale/olm/examples/quick2/_build/check/check-origami/perm05/perm05.ii.json\u001b[0m\n",
      "\u001b[2m2023-08-22 18:26:26\u001b[0m [\u001b[32m\u001b[1minfo     \u001b[0m] \u001b[1m\u001b[0m\n",
      "\u001b[2m2023-08-22 18:26:26\u001b[0m [\u001b[32m\u001b[1minfo     \u001b[0m] \u001b[1mrunning command:\n",
      "/Applications/SCALE-6.3.1.app/Contents/Resources/bin/obiwan view -format=ii.json /Users/ww5/dev/scale/olm/examples/quick2/_build/perm06/perm06.f71 -cases='[-2]' >/Users/ww5/dev/scale/olm/examples/quick2/_build/perm06/perm06.ii.json\u001b[0m\n",
      "\u001b[2m2023-08-22 18:26:26\u001b[0m [\u001b[32m\u001b[1minfo     \u001b[0m] \u001b[1m\u001b[0m\n",
      "\u001b[2m2023-08-22 18:26:26\u001b[0m [\u001b[32m\u001b[1minfo     \u001b[0m] \u001b[1mrunning command:\n",
      "/Applications/SCALE-6.3.1.app/Contents/Resources/bin/obiwan view -format=ii.json /Users/ww5/dev/scale/olm/examples/quick2/_build/check/check-origami/perm06/perm06.f71 >/Users/ww5/dev/scale/olm/examples/quick2/_build/check/check-origami/perm06/perm06.ii.json\u001b[0m\n",
      "\u001b[2m2023-08-22 18:26:27\u001b[0m [\u001b[32m\u001b[1minfo     \u001b[0m] \u001b[1m\u001b[0m\n",
      "\u001b[2m2023-08-22 18:26:27\u001b[0m [\u001b[32m\u001b[1minfo     \u001b[0m] \u001b[1mrunning command:\n",
      "/Applications/SCALE-6.3.1.app/Contents/Resources/bin/obiwan view -format=ii.json /Users/ww5/dev/scale/olm/examples/quick2/_build/perm07/perm07.f71 -cases='[-2]' >/Users/ww5/dev/scale/olm/examples/quick2/_build/perm07/perm07.ii.json\u001b[0m\n",
      "\u001b[2m2023-08-22 18:26:27\u001b[0m [\u001b[32m\u001b[1minfo     \u001b[0m] \u001b[1m\u001b[0m\n",
      "\u001b[2m2023-08-22 18:26:27\u001b[0m [\u001b[32m\u001b[1minfo     \u001b[0m] \u001b[1mrunning command:\n",
      "/Applications/SCALE-6.3.1.app/Contents/Resources/bin/obiwan view -format=ii.json /Users/ww5/dev/scale/olm/examples/quick2/_build/check/check-origami/perm07/perm07.f71 >/Users/ww5/dev/scale/olm/examples/quick2/_build/check/check-origami/perm07/perm07.ii.json\u001b[0m\n"
     ]
    },
    {
     "name": "stdout",
     "output_type": "stream",
     "text": [
      "\u001b[2m2023-08-22 18:26:28\u001b[0m [\u001b[32m\u001b[1minfo     \u001b[0m] \u001b[1m\u001b[0m\n",
      "\u001b[2m2023-08-22 18:26:28\u001b[0m [\u001b[32m\u001b[1minfo     \u001b[0m] \u001b[1mrunning command:\n",
      "/Applications/SCALE-6.3.1.app/Contents/Resources/bin/obiwan view -format=ii.json /Users/ww5/dev/scale/olm/examples/quick2/_build/perm08/perm08.f71 -cases='[-2]' >/Users/ww5/dev/scale/olm/examples/quick2/_build/perm08/perm08.ii.json\u001b[0m\n",
      "\u001b[2m2023-08-22 18:26:28\u001b[0m [\u001b[32m\u001b[1minfo     \u001b[0m] \u001b[1m\u001b[0m\n",
      "\u001b[2m2023-08-22 18:26:28\u001b[0m [\u001b[32m\u001b[1minfo     \u001b[0m] \u001b[1mrunning command:\n",
      "/Applications/SCALE-6.3.1.app/Contents/Resources/bin/obiwan view -format=ii.json /Users/ww5/dev/scale/olm/examples/quick2/_build/check/check-origami/perm08/perm08.f71 >/Users/ww5/dev/scale/olm/examples/quick2/_build/check/check-origami/perm08/perm08.ii.json\u001b[0m\n",
      "\u001b[2m2023-08-22 18:26:29\u001b[0m [\u001b[32m\u001b[1minfo     \u001b[0m] \u001b[1m\u001b[0m\n",
      "\u001b[2m2023-08-22 18:26:29\u001b[0m [\u001b[32m\u001b[1minfo     \u001b[0m] \u001b[1mrunning command:\n",
      "/Applications/SCALE-6.3.1.app/Contents/Resources/bin/obiwan view -format=ii.json /Users/ww5/dev/scale/olm/examples/quick2/_build/perm09/perm09.f71 -cases='[-2]' >/Users/ww5/dev/scale/olm/examples/quick2/_build/perm09/perm09.ii.json\u001b[0m\n",
      "\u001b[2m2023-08-22 18:26:29\u001b[0m [\u001b[32m\u001b[1minfo     \u001b[0m] \u001b[1m\u001b[0m\n",
      "\u001b[2m2023-08-22 18:26:29\u001b[0m [\u001b[32m\u001b[1minfo     \u001b[0m] \u001b[1mrunning command:\n",
      "/Applications/SCALE-6.3.1.app/Contents/Resources/bin/obiwan view -format=ii.json /Users/ww5/dev/scale/olm/examples/quick2/_build/check/check-origami/perm09/perm09.f71 >/Users/ww5/dev/scale/olm/examples/quick2/_build/check/check-origami/perm09/perm09.ii.json\u001b[0m\n",
      "\u001b[2m2023-08-22 18:26:30\u001b[0m [\u001b[32m\u001b[1minfo     \u001b[0m] \u001b[1m\u001b[0m\n",
      "\u001b[2m2023-08-22 18:26:30\u001b[0m [\u001b[32m\u001b[1minfo     \u001b[0m] \u001b[1mrunning command:\n",
      "/Applications/SCALE-6.3.1.app/Contents/Resources/bin/obiwan view -format=ii.json /Users/ww5/dev/scale/olm/examples/quick2/_build/perm10/perm10.f71 -cases='[-2]' >/Users/ww5/dev/scale/olm/examples/quick2/_build/perm10/perm10.ii.json\u001b[0m\n",
      "\u001b[2m2023-08-22 18:26:31\u001b[0m [\u001b[32m\u001b[1minfo     \u001b[0m] \u001b[1m\u001b[0m\n",
      "\u001b[2m2023-08-22 18:26:31\u001b[0m [\u001b[32m\u001b[1minfo     \u001b[0m] \u001b[1mrunning command:\n",
      "/Applications/SCALE-6.3.1.app/Contents/Resources/bin/obiwan view -format=ii.json /Users/ww5/dev/scale/olm/examples/quick2/_build/check/check-origami/perm10/perm10.f71 >/Users/ww5/dev/scale/olm/examples/quick2/_build/check/check-origami/perm10/perm10.ii.json\u001b[0m\n",
      "\u001b[2m2023-08-22 18:26:31\u001b[0m [\u001b[32m\u001b[1minfo     \u001b[0m] \u001b[1m\u001b[0m\n",
      "\u001b[2m2023-08-22 18:26:31\u001b[0m [\u001b[32m\u001b[1minfo     \u001b[0m] \u001b[1mrunning command:\n",
      "/Applications/SCALE-6.3.1.app/Contents/Resources/bin/obiwan view -format=ii.json /Users/ww5/dev/scale/olm/examples/quick2/_build/perm11/perm11.f71 -cases='[-2]' >/Users/ww5/dev/scale/olm/examples/quick2/_build/perm11/perm11.ii.json\u001b[0m\n",
      "\u001b[2m2023-08-22 18:26:32\u001b[0m [\u001b[32m\u001b[1minfo     \u001b[0m] \u001b[1m\u001b[0m\n",
      "\u001b[2m2023-08-22 18:26:32\u001b[0m [\u001b[32m\u001b[1minfo     \u001b[0m] \u001b[1mrunning command:\n",
      "/Applications/SCALE-6.3.1.app/Contents/Resources/bin/obiwan view -format=ii.json /Users/ww5/dev/scale/olm/examples/quick2/_build/check/check-origami/perm11/perm11.f71 >/Users/ww5/dev/scale/olm/examples/quick2/_build/check/check-origami/perm11/perm11.ii.json\u001b[0m\n",
      "\u001b[2m2023-08-22 18:26:32\u001b[0m [\u001b[32m\u001b[1minfo     \u001b[0m] \u001b[1m\u001b[0m\n"
     ]
    },
    {
     "data": {
      "text/plain": [
       "<scale.olm.check.CheckInfo at 0x105e47f10>"
      ]
     },
     "execution_count": 2,
     "metadata": {},
     "output_type": "execute_result"
    }
   ],
   "source": [
    "dir = Path('/Users/ww5/dev/scale/olm/examples/quick2')\n",
    "work_dir = dir / '_build'\n",
    "scale = Path('/Applications/SCALE-6.3.1.app/Contents/Resources')\n",
    "scalerte = scale / 'bin' / 'scalerte'\n",
    "obiwan = scale / 'bin' / 'obiwan'\n",
    "name = 'w17x17_pin2'\n",
    "model = {'scalerte': scalerte, 'dir': dir, 'work_dir': work_dir, 'obiwan': obiwan, 'name': name}\n",
    "template = dir / 'check-origami.inp'\n",
    "c=olm.check.LowOrderConsistency(model,template)\n",
    "p = 'arpdata.txt:'+name\n",
    "c.run(work_dir/p)"
   ]
  },
  {
   "cell_type": "code",
   "execution_count": 3,
   "id": "1c94beb0",
   "metadata": {},
   "outputs": [
    {
     "name": "stdout",
     "output_type": "stream",
     "text": [
      "['0001001', '0001002', '0001003', '0002003', '0002004', '0002005', '0002006', '0003006', '0003007', '0003008', '0004007', '0004008', '0004009', '0004010', '0004011', '0005010', '0005011', '0005012', '0006012', '0006013', '0006014', '0006015', '0007013', '0007014', '0007015', '0007016', '0008016', '0008017', '0008018', '0008019', '0009019', '0009020', '0010020', '0010021', '0010022', '0010023', '0011022', '0011023', '0011024', '1011024', '0011025', '0012024', '0012025', '0012026', '0012027', '0012028', '0013026', '0013027', '0013028', '0013029', '0013030', '0014028', '0014029', '0014030', '0014031', '0014032', '0015031', '0015032', '0015033', '0015034', '0016032', '0016033', '0016034', '0016035', '0016036', '0016037', '0017035', '0017036', '0017037', '0017038', '1017038', '0018036', '0018037', '0018038', '0018039', '0018040', '0018041', '0018042', '0019039', '0019040', '0019041', '0019042', '0019043', '0019044', '0020040', '0020041', '0020042', '0020043', '0020044', '0020045', '0020046', '0020047', '0020048', '0020049', '0021044', '1021044', '0021045', '1021045', '0021046', '1021046', '0021047', '0021048', '0021049', '0021050', '0022044', '0022045', '0022046', '0022047', '0022048', '0022049', '0022050', '0022051', '0023048', '0023049', '0023050', '0023051', '0023052', '0023053', '0023054', '0024048', '0024049', '0024050', '0024051', '0024052', '0024053', '0024054', '0024055', '0024066', '0024067', '0025052', '0025053', '0025054', '0025055', '0025056', '0025057', '0025058', '0025066', '0025067', '0025068', '0025069', '0026054', '0026055', '0026056', '0026057', '0026058', '0026059', '0026060', '0026065', '0026066', '0026067', '0026068', '0026069', '0026070', '0026071', '0026072', '0027055', '0027056', '0027057', '0027058', '1027058', '0027059', '0027060', '1027060', '0027061', '0027062', '0027065', '0027066', '0027067', '0027068', '0027069', '0027070', '0027071', '0027072', '0027073', '0027074', '0027075', '0028056', '0028057', '0028058', '0028059', '0028060', '0028061', '0028062', '0028063', '0028064', '0028065', '0028066', '0028067', '0028068', '0028069', '0028070', '0028071', '0028072', '0028073', '0028074', '0028075', '0028076', '0028077', '0028078', '0029062', '0029063', '0029064', '0029065', '0029066', '0029067', '0029068', '1029068', '0029069', '0029070', '1029070', '0029071', '0029072', '0029073', '0029074', '0029075', '0029076', '0029077', '0029078', '0029079', '0029080', '0030063', '0030064', '0030065', '0030066', '0030067', '0030068', '0030069', '1030069', '0030070', '0030071', '1030071', '0030072', '0030073', '0030074', '0030075', '0030076', '0030077', '0030078', '0030079', '0030080', '0030081', '0030082', '0030083', '0031066', '0031067', '0031068', '0031069', '0031070', '0031071', '0031072', '1031072', '0031073', '0031074', '1031074', '0031075', '0031076', '0031077', '0031078', '0031079', '0031080', '0031081', '0031082', '0031083', '0031084', '0031085', '0031086', '0032066', '0032067', '0032068', '0032069', '0032070', '0032071', '1032071', '0032072', '0032073', '1032073', '0032074', '0032075', '1032075', '0032076', '0032077', '1032077', '0032078', '0032079', '1032079', '0032080', '0032081', '1032081', '0032082', '0032083', '0032084', '0032085', '0032086', '0032087', '0032088', '0032089', '0033069', '0033071', '0033072', '0033073', '0033074', '0033075', '1033075', '0033076', '0033077', '0033078', '0033079', '0033080', '0033081', '0033082', '1033082', '0033083', '0033084', '0033085', '0033086', '0033087', '0033088', '0033089', '0033090', '0033091', '0033092', '0034072', '0034073', '1034073', '0034074', '0034075', '0034076', '0034077', '1034077', '0034078', '0034079', '1034079', '0034080', '0034081', '1034081', '0034082', '0034083', '1034083', '0034084', '0034085', '0034086', '0034087', '0034088', '0034089', '0034090', '0034091', '0034092', '0034093', '0034094', '0035075', '0035076', '0035077', '1035077', '0035078', '0035079', '1035079', '0035080', '1035080', '0035081', '0035082', '1035082', '0035083', '0035084', '1035084', '0035085', '0035086', '0035087', '0035088', '0035089', '0035090', '0035091', '0035092', '0035093', '0035094', '0035095', '0035096', '0035097', '0036076', '0036077', '0036078', '0036079', '1036079', '0036080', '0036081', '1036081', '0036082', '0036083', '1036083', '0036084', '0036085', '1036085', '0036086', '0036087', '0036088', '0036089', '0036090', '0036091', '0036092', '0036093', '0036094', '0036095', '0036096', '0036097', '0036098', '0036099', '0036100', '0037079', '0037081', '0037082', '0037083', '0037084', '0037085', '0037086', '1037086', '0037087', '0037088', '0037089', '0037090', '1037090', '0037091', '0037092', '0037093', '0037094', '0037095', '0037096', '0037097', '0037098', '0037099', '0037100', '0037101', '0037102', '0038082', '0038083', '0038084', '0038085', '1038085', '0038086', '0038087', '1038087', '0038088', '0038089', '0038090', '0038091', '0038092', '0038093', '0038094', '0038095', '0038096', '0038097', '0038098', '0038099', '0038100', '0038101', '0038102', '0038103', '0038104', '0038105', '0039085', '0039086', '0039087', '1039087', '0039088', '0039089', '1039089', '0039090', '1039090', '0039091', '1039091', '0039092', '0039093', '1039093', '0039094', '0039095', '0039096', '1039096', '0039097', '1039097', '0039098', '1039098', '0039099', '0039100', '0039101', '0039102', '0039103', '0039104', '0039105', '0039106', '0039107', '0039108', '0040086', '0040087', '0040088', '0040089', '1040089', '0040090', '1040090', '0040091', '0040092', '0040093', '0040094', '0040095', '0040096', '0040097', '0040098', '0040099', '0040100', '0040101', '0040102', '0040103', '0040104', '0040105', '0040106', '0040107', '0040108', '0040109', '0040110', '0041089', '0041090', '1041090', '0041091', '1041091', '0041092', '1041092', '0041093', '1041093', '0041094', '1041094', '0041095', '1041095', '0041096', '0041097', '1041097', '0041098', '1041098', '0041099', '1041099', '0041100', '1041100', '0041101', '0041102', '1041102', '0041103', '0041104', '1041104', '0041105', '0041106', '0041107', '0041108', '0041109', '0041110', '0041111', '0041112', '0041113', '0042090', '0042091', '0042092', '0042093', '1042093', '0042094', '0042095', '0042096', '0042097', '0042098', '0042099', '0042100', '0042101', '0042102', '0042103', '0042104', '0042105', '0042106', '0042107', '0042108', '0042109', '0042110', '0042111', '0042112', '0042113', '0042114', '0042115', '0043093', '0043095', '1043095', '0043096', '0043097', '1043097', '0043098', '0043099', '1043099', '0043100', '0043101', '0043102', '1043102', '0043103', '0043104', '0043105', '0043106', '0043107', '0043108', '0043109', '0043110', '0043111', '0043112', '0043113', '0043114', '0043115', '0043116', '0043117', '0043118', '0044095', '0044096', '0044097', '0044098', '0044099', '0044100', '0044101', '0044102', '0044103', '0044104', '0044105', '0044106', '0044107', '0044108', '0044109', '0044110', '0044111', '0044112', '0044113', '0044114', '0044115', '0044116', '0044117', '0044118', '0044119', '0044120', '0045099', '1045099', '0045100', '0045101', '1045101', '0045102', '1045102', '0045103', '1045103', '0045104', '1045104', '0045105', '1045105', '0045106', '1045106', '0045107', '0045108', '1045108', '0045109', '0045110', '1045110', '0045111', '0045112', '0045113', '0045114', '0045115', '0045116', '0045117', '0045118', '0045119', '0045120', '0045121', '0045122', '0046099', '0046100', '0046101', '0046102', '0046103', '0046104', '0046105', '0046106', '0046107', '1046107', '0046108', '0046109', '1046109', '0046110', '0046111', '1046111', '0046112', '0046113', '0046114', '0046115', '0046116', '0046117', '0046118', '0046119', '0046120', '0046121', '0046122', '0046123', '0046124', '0047103', '0047105', '1047105', '0047106', '1047106', '0047107', '1047107', '0047108', '1047108', '0047109', '1047109', '0047110', '1047110', '0047111', '1047111', '0047112', '0047113', '1047113', '0047114', '0047115', '1047115', '0047116', '1047116', '0047117', '1047117', '0047118', '1047118', '0047119', '0047120', '1047120', '0047121', '0047122', '1047122', '0047123', '0047124', '0047125', '0047126', '0047127', '0047128', '0047129', '0047130', '0048105', '0048106', '0048107', '0048108', '0048109', '0048110', '0048111', '1048111', '0048112', '0048113', '1048113', '0048114', '0048115', '1048115', '0048116', '0048117', '1048117', '0048118', '0048119', '1048119', '0048120', '0048121', '1048121', '0048122', '0048123', '1048123', '0048124', '0048125', '0048126', '0048127', '0048128', '0048129', '0048130', '0048131', '0048132', '0049107', '0049109', '0049111', '1049111', '0049112', '1049112', '0049113', '1049113', '0049114', '1049114', '0049115', '1049115', '0049116', '1049116', '0049117', '1049117', '0049118', '1049118', '0049119', '1049119', '0049120', '1049120', '0049121', '1049121', '0049122', '1049122', '0049123', '1049123', '0049124', '1049124', '0049125', '1049125', '0049126', '1049126', '0049127', '1049127', '0049128', '1049128', '0049129', '1049129', '0049130', '1049130', '0049131', '1049131', '0049132', '0049133', '0049134', '0049135', '0050111', '0050112', '0050113', '1050113', '0050114', '0050115', '0050116', '0050117', '1050117', '0050118', '0050119', '1050119', '0050120', '0050121', '1050121', '0050122', '0050123', '1050123', '0050124', '0050125', '1050125', '0050126', '0050127', '1050127', '0050128', '1050128', '0050129', '1050129', '0050130', '1050130', '0050131', '1050131', '0050132', '0050133', '0050134', '0050135', '0050136', '0050137', '0051113', '0051115', '0051117', '0051118', '1051118', '0051119', '0051120', '1051120', '0051121', '0051122', '1051122', '0051123', '0051124', '1051124', '0051125', '0051126', '1051126', '0051127', '0051128', '1051128', '0051129', '1051129', '0051130', '1051130', '0051131', '0051132', '1051132', '0051133', '0051134', '1051134', '0051135', '0051136', '0051137', '0051138', '0051139', '0052115', '0052117', '0052118', '0052119', '1052119', '0052120', '0052121', '1052121', '0052122', '0052123', '1052123', '0052124', '0052125', '1052125', '0052126', '0052127', '1052127', '0052128', '0052129', '1052129', '0052130', '0052131', '1052131', '0052132', '0052133', '1052133', '0052134', '0052135', '0052136', '0052137', '0052138', '0052139', '0052140', '0052141', '0052142', '0053121', '0053122', '0053123', '0053124', '0053125', '0053126', '0053127', '0053128', '0053129', '0053130', '1053130', '0053131', '0053132', '1053132', '0053133', '1053133', '0053134', '1053134', '0053135', '0053136', '1053136', '0053137', '0053138', '0053139', '0053140', '0053141', '0053142', '0053143', '0053144', '0054122', '0054123', '0054124', '0054125', '1054125', '0054126', '0054127', '1054127', '0054128', '0054129', '1054129', '0054130', '0054131', '1054131', '0054132', '0054133', '1054133', '0054134', '1054134', '0054135', '1054135', '0054136', '0054137', '0054138', '0054139', '0054140', '0054141', '0054142', '0054143', '0054144', '0054145', '0054146', '0054147', '0055127', '0055128', '0055129', '0055130', '0055131', '0055132', '0055133', '0055134', '1055134', '0055135', '1055135', '0055136', '1055136', '0055137', '0055138', '1055138', '0055139', '0055140', '0055141', '0055142', '0055143', '0055144', '0055145', '0055146', '0055147', '0055148', '0055149', '0055150', '0055151', '0056128', '0056129', '0056130', '0056131', '1056131', '0056132', '0056133', '1056133', '0056134', '0056135', '1056135', '0056136', '1056136', '0056137', '1056137', '0056138', '0056139', '0056140', '0056141', '0056142', '0056143', '0056144', '0056145', '0056146', '0056147', '0056148', '0056149', '0056150', '0056151', '0056152', '0056153', '0057133', '0057134', '0057135', '0057136', '0057137', '0057138', '0057139', '0057140', '0057141', '0057142', '0057143', '0057144', '0057145', '0057146', '1057146', '0057147', '0057148', '0057149', '0057150', '0057151', '0057152', '0057153', '0057154', '0057155', '0058134', '0058135', '0058136', '0058137', '1058137', '0058138', '0058139', '1058139', '0058140', '0058141', '0058142', '0058143', '0058144', '0058145', '0058146', '0058147', '0058148', '0058149', '0058150', '0058151', '0058152', '0058153', '0058154', '0058155', '0058156', '0058157', '0059139', '0059140', '0059141', '0059142', '1059142', '0059143', '0059144', '1059144', '0059145', '0059146', '0059147', '0059148', '1059148', '0059149', '0059150', '0059151', '0059152', '0059153', '0059154', '0059155', '0059156', '0059157', '0059158', '0059159', '0060140', '0060141', '1060141', '0060142', '0060143', '0060144', '0060145', '0060146', '0060147', '0060148', '0060149', '0060150', '0060151', '0060152', '0060153', '0060154', '0060155', '0060156', '0060157', '0060158', '0060159', '0060160', '0060161', '0061141', '0061143', '0061144', '0061145', '0061146', '0061147', '0061148', '1061148', '0061149', '0061150', '0061151', '0061152', '1061152', '0061153', '0061154', '1061154', '0061155', '0061156', '0061157', '0061158', '0061159', '0061160', '0061161', '0061162', '0061163', '0062143', '1062143', '0062144', '0062145', '0062146', '0062147', '0062148', '0062149', '0062150', '0062151', '0062152', '0062153', '0062154', '0062155', '0062156', '0062157', '0062158', '0062159', '0062160', '0062161', '0062162', '0062163', '0062164', '0062165', '0063145', '0063146', '0063147', '0063148', '0063149', '0063150', '1063150', '0063151', '0063152', '1063152', '0063153', '0063154', '1063154', '0063155', '0063156', '0063157', '0063158', '0063159', '0063160', '0063161', '0063162', '0063163', '0063164', '0063165', '0063166', '0063167', '0064146', '0064147', '0064148', '0064149', '0064150', '0064151', '0064152', '0064153', '0064154', '0064155', '1064155', '0064156', '0064157', '0064158', '0064159', '0064160', '0064161', '0064162', '0064163', '0064164', '0064165', '0064166', '0064167', '0064168', '0064169', '0065151', '0065152', '0065153', '0065154', '1065154', '0065155', '0065156', '1065156', '0065157', '0065158', '1065158', '0065159', '0065160', '0065161', '0065162', '0065163', '0065164', '0065165', '0065166', '0065167', '0065168', '0065169', '0065170', '0065171', '0066154', '0066155', '0066156', '0066157', '0066158', '0066159', '0066160', '0066161', '0066162', '0066163', '0066164', '0066165', '1066165', '0066166', '0066167', '0066168', '0066169', '0066170', '0066171', '0066172', '0067159', '1067159', '0067160', '1067160', '0067161', '1067161', '0067162', '1067162', '0067163', '1067163', '0067164', '1067164', '0067165', '0067166', '1067166', '0067167', '0067168', '0067169', '0067170', '1067170', '0067171', '0067172', '0068160', '0068161', '0068162', '0068163', '0068164', '0068165', '0068166', '0068167', '1068167', '0068168', '0068169', '0068170', '0068171', '0068172', '0069165', '0069166', '0069167', '0069168', '0069169', '0069170', '0069171', '0069172', '0069173', '0070166', '0070167', '0070168', '0070169', '1070169', '0070170', '0070171', '0070172', '0070173', '0070174', '0070175', '1070175', '0070176', '0070177', '0071169', '1071169', '0071170', '0071171', '1071171', '0071172', '1071172', '0071173', '0071174', '1071174', '0071175', '0071176', '1071176', '0071177', '1071177', '0072170', '0072171', '0072172', '0072173', '0072174', '0072175', '0072176', '0072177', '1072177', '0072178', '1072178', '0072179', '1072179', '0072180', '1072180', '0072181', '0072182', '0073177', '0073178', '0073179', '0073180', '1073180', '0073181', '0073182', '1073182', '0073183', '0074178', '0074180', '0074181', '0074182', '0074183', '1074183', '0074184', '0074185', '1074185', '0074186', '0074187', '0074188', '0074189', '0075181', '0075182', '1075182', '0075183', '0075184', '1075184', '0075185', '0075186', '1075186', '0075187', '0075188', '1075188', '0075189', '0076182', '0076183', '0076184', '0076185', '0076186', '0076187', '0076188', '0076189', '1076189', '0076190', '1076190', '0076191', '1076191', '0076192', '0076193', '0076194', '0077185', '0077186', '0077188', '0077189', '1077189', '0077190', '0077191', '1077191', '0077192', '1077192', '0077193', '1077193', '0077194', '1077194', '0077196', '1077196', '0078188', '0078189', '0078190', '0078191', '0078192', '0078193', '1078193', '0078194', '0078195', '1078195', '0078196', '0078197', '1078197', '0078198', '0078199', '1078199', '0078200', '0079193', '0079194', '0079195', '1079195', '0079196', '0079197', '1079197', '0079198', '1079198', '0079199', '0079200', '1079200', '0080193', '1080193', '0080194', '0080195', '1080195', '0080196', '0080197', '1080197', '0080198', '0080199', '1080199', '0080200', '0080201', '0080202', '0080203', '0080204', '0080205', '0080206', '0081200', '0081201', '0081202', '0081203', '0081204', '0081205', '0081206', '0081207', '0081208', '0081209', '0081210', '0082200', '0082202', '0082203', '0082204', '0082205', '1082205', '0082206', '0082207', '1082207', '0082208', '0082209', '0082210', '0082211', '0082212', '0082214', '0083205', '0083206', '0083207', '0083208', '0083209', '0083210', '1083210', '0083211', '0083212', '1083212', '0083213', '0083214', '0084206', '0084207', '0084208', '0084209', '0084210', '0084211', '1084211', '0084212', '0084213', '0084214', '0084215', '0084216', '0084218', '0085216', '0085217', '0085218', '0086216', '0086217', '0086218', '0086219', '0086220', '0086222', '0087220', '0087221', '0087222', '0087223', '0088220', '0088222', '0088223', '0088224', '0088225', '0088226', '0088227', '0088228', '0089224', '0089225', '0089226', '0089227', '0089228', '0090226', '0090227', '0090228', '0090229', '0090230', '0090231', '0090232', '0090233', '0090234', '0091228', '0091229', '0091230', '0091231', '0091232', '0091233', '0091234', '1091234', '0091235', '0092230', '0092231', '0092232', '0092233', '0092234', '0092235', '1092235', '0092236', '0092237', '0092238', '0092239', '0092240', '0092241', '0093234', '0093235', '0093236', '1093236', '0093237', '0093238', '0093239', '0093240', '1093240', '0093241', '0094236', '0094237', '1094237', '0094238', '0094239', '0094240', '0094241', '0094242', '0094243', '0094244', '0094245', '0094246', '0094247', '0095239', '0095240', '0095241', '0095242', '1095242', '0095243', '0095244', '1095244', '0095245', '0095246', '1095246', '0095247', '0096240', '0096241', '0096242', '0096243', '0096244', '0096245', '0096246', '0096247', '0096248', '0096249', '0096250', '0096251', '0097245', '0097246', '0097247', '0097248', '1097248', '0097249', '0097250', '0097251', '0098246', '0098248', '0098249', '0098250', '0098251', '0098252', '0098253', '0098254', '0098255', '0099251', '0099252', '0099253', '0099254', '1099254', '0099255']\n"
     ]
    }
   ],
   "source": [
    "print(c.names)"
   ]
  },
  {
   "cell_type": "code",
   "execution_count": null,
   "id": "2105bd5d",
   "metadata": {},
   "outputs": [],
   "source": []
  },
  {
   "cell_type": "code",
   "execution_count": 4,
   "id": "291cde80",
   "metadata": {},
   "outputs": [
    {
     "data": {
      "image/png": "[encoded data removed]",
      "text/plain": [
       "<Figure size 640x480 with 1 Axes>"
      ]
     },
     "metadata": {},
     "output_type": "display_data"
    }
   ],
   "source": [
    "plt.hist(c.ahist, bins=np.linspace(0,np.amax(c.ahist),10), histtype=u'step',density=False,log=True)\n",
    "plt.show()"
   ]
  },
  {
   "cell_type": "code",
   "execution_count": 5,
   "id": "4daecd79",
   "metadata": {},
   "outputs": [
    {
     "data": {
      "image/png": "[encoded data removed]",
      "text/plain": [
       "<Figure size 640x480 with 1 Axes>"
      ]
     },
     "metadata": {},
     "output_type": "display_data"
    }
   ],
   "source": [
    "plt.hist(c.rhist, bins=np.linspace(0,np.amax(c.rhist),10), histtype=u'step',density=False,log=True)\n",
    "plt.show()"
   ]
  },
  {
   "cell_type": "code",
   "execution_count": 6,
   "id": "e8aada76",
   "metadata": {},
   "outputs": [
    {
     "name": "stderr",
     "output_type": "stream",
     "text": [
      "/var/folders/gd/ns6g1ncd7kgbxglpynczvlznxpq4sw/T/ipykernel_23079/2220038145.py:1: RuntimeWarning: divide by zero encountered in log10\n",
      "  plt.scatter(np.log10(np.ndarray.flatten(c.triton)),np.log10(c.ahist),color='black',s=0.1,alpha=0.05)\n"
     ]
    },
    {
     "data": {
      "image/png": "[encoded data removed]",
      "text/plain": [
       "<Figure size 640x480 with 1 Axes>"
      ]
     },
     "metadata": {},
     "output_type": "display_data"
    }
   ],
   "source": [
    "plt.scatter(np.log10(np.ndarray.flatten(c.triton)),np.log10(c.ahist),color='black',s=0.1,alpha=0.05)\n",
    "plt.xlabel(r'$f_{TRITON}$')\n",
    "plt.ylabel(r'$|f_{ORIGAMI}-f_{TRITON}|$')\n",
    "plt.plot([-50,0],[-50,0])\n",
    "plt.show()"
   ]
  },
  {
   "cell_type": "code",
   "execution_count": 7,
   "id": "f2ecd5aa",
   "metadata": {},
   "outputs": [],
   "source": [
    "info = c.info()"
   ]
  },
  {
   "cell_type": "code",
   "execution_count": 8,
   "id": "51002d50",
   "metadata": {},
   "outputs": [
    {
     "name": "stdout",
     "output_type": "stream",
     "text": [
      "{'test_pass': False, 'name': 'LowOrderConsistency', 'eps0': 1e-20, 'epsa': 1e-06, 'epsr': 0.001, 'target_q1': 0.9, 'target_q2': 0.95, 'wa': 262, 'wr': 11504, 'm': 20100, 'fr': 0.5723383084577115, 'q1': 0.4276616915422885, 'fa': 0.013034825870646766, 'q2': 0.9310348258706468, 'test_pass_q1': False, 'test_pass_q2': False}\n"
     ]
    }
   ],
   "source": [
    "print(info.__dict__)"
   ]
  },
  {
   "cell_type": "code",
   "execution_count": null,
   "id": "d0f417b6",
   "metadata": {},
   "outputs": [],
   "source": []
  },
  {
   "cell_type": "code",
   "execution_count": null,
   "id": "185e0466",
   "metadata": {},
   "outputs": [],
   "source": []
  },
  {
   "cell_type": "code",
   "execution_count": null,
   "id": "047ff866",
   "metadata": {},
   "outputs": [],
   "source": []
  },
  {
   "cell_type": "code",
   "execution_count": null,
   "id": "9322e8b2",
   "metadata": {},
   "outputs": [],
   "source": []
  },
  {
   "cell_type": "code",
   "execution_count": null,
   "id": "144e0fbf",
   "metadata": {},
   "outputs": [],
   "source": []
  },
  {
   "cell_type": "code",
   "execution_count": null,
   "id": "68868dcc",
   "metadata": {},
   "outputs": [],
   "source": []
  },
  {
   "cell_type": "code",
   "execution_count": null,
   "id": "6e33b5fe",
   "metadata": {},
   "outputs": [],
   "source": []
  },
  {
   "cell_type": "code",
   "execution_count": null,
   "id": "2174b466",
   "metadata": {},
   "outputs": [],
   "source": []
  },
  {
   "cell_type": "code",
   "execution_count": null,
   "id": "aaf2d46e",
   "metadata": {},
   "outputs": [],
   "source": []
  },
  {
   "cell_type": "code",
   "execution_count": null,
   "id": "3663dcb1",
   "metadata": {},
   "outputs": [],
   "source": []
  },
  {
   "cell_type": "code",
   "execution_count": null,
   "id": "9103ecac",
   "metadata": {},
   "outputs": [],
   "source": [
    "import matplotlib.pyplot as plt\n",
    "archive=archive_data['w17x17.h5']\n",
    "#j=45241 #transition\n",
    "j=41114\n",
    "ne=0 #enrichment axis\n",
    "nm=1 #moderator density axis\n",
    "nb=2 #burnup axis\n",
    "print(*archive.axes_values)\n",
    "y=archive.coeff[...,:,j]\n",
    "yin=y #/archive.coeff[...,0:1,j] #normalize to t=0\n",
    "print(np.shape(yin))\n",
    "colors = plt.cm.rainbow(np.linspace(0, 1, archive.axes_shape[nb]))\n",
    "mod0 = 1+np.floor(len(colors)/11)\n",
    "print(mod0)\n",
    "for ib in range(archive.axes_shape[nb]):\n",
    "    bu = archive.axes_values[nb][ib]\n",
    "    label=str(bu)\n",
    "    if ib%mod0!=0:\n",
    "        label='_nolegend_'\n",
    "    im=0\n",
    "    plt.plot(archive.axes_values[ne],yin[:,im,ib],marker='.', color=colors[ib], label=label)\n",
    "plt.legend()\n",
    "plt.ylabel('Xe-135 (n,gamma) [barns]')\n",
    "plt.xlabel('enrichment [U-235 wt.%]')\n",
    "plt.show()\n",
    "\n",
    "colors = plt.cm.rainbow(np.linspace(0, 1, archive.axes_shape[ne]))\n",
    "mod0 = 1+np.floor(len(colors)/11)\n",
    "for ie in range(archive.axes_shape[ne]):\n",
    "    e = archive.axes_values[ne][ie]\n",
    "    c='-'\n",
    "    label=str(e)\n",
    "    if ie%mod0!=0:\n",
    "        label='_nolegend_'\n",
    "    plt.plot(archive.axes_values[nb],y[ie,0,:],c,marker='.',color=colors[ie],label=label)\n",
    "plt.legend()\n",
    "plt.ylabel('Xe-135 (n,gamma) [barns]')\n",
    "plt.xlabel('burnup [MWd/MTU]')\n",
    "plt.show()"
   ]
  },
  {
   "cell_type": "code",
   "execution_count": null,
   "id": "b3fcd705",
   "metadata": {},
   "outputs": [],
   "source": [
    "\n"
   ]
  },
  {
   "cell_type": "code",
   "execution_count": null,
   "id": "75647595",
   "metadata": {},
   "outputs": [],
   "source": [
    "rel_axes=list()\n",
    "for x_list in archive.axes_values:\n",
    "    dx=x_list[-1]-x_list[0]\n",
    "    x0 = x_list[0]\n",
    "    z=list()\n",
    "    for x in x_list:\n",
    "        z.append((x-x0)/dx)\n",
    "    rel_axes.append(z)\n",
    "print(rel_axes)\n"
   ]
  },
  {
   "cell_type": "code",
   "execution_count": null,
   "id": "a8b8831c",
   "metadata": {},
   "outputs": [],
   "source": [
    "yp=np.asarray(np.gradient(yin,*rel_axes))\n",
    "print(np.shape(yp))\n",
    "\n",
    "#gradients\n",
    "#burnup plots\n",
    "ib=None\n",
    "for ie in range(archive.axes_shape[ne]):\n",
    "    for im in range(archive.axes_shape[nm]):\n",
    "        #print(archive.axes_values[ne][ie],archive.axes_values[nm][im],yp[0,ie,im,:])\n",
    "        plt.plot(archive.axes_values[nb],yp[0,ie,im,:])\n",
    "plt.title('gradients vs. burnup')\n",
    "plt.show()\n",
    "\n",
    "#enrichment\n",
    "ie=None\n",
    "for im in range(archive.axes_shape[nm]):\n",
    "    for ib in range(archive.axes_shape[nb]):\n",
    "        plt.plot(archive.axes_values[ne],yp[0,:,im,ib])\n",
    "plt.title('gradients vs. enrichment')\n",
    "plt.show()\n"
   ]
  },
  {
   "cell_type": "code",
   "execution_count": null,
   "id": "69d4f843",
   "metadata": {},
   "outputs": [],
   "source": [
    "for i in range(2):\n",
    "    ypp=np.asarray(np.gradient(yp[i,:,:],axis=i))\n",
    "    print(np.shape(ypp))\n",
    "    for j in range(10):\n",
    "        plt.plot(archive.axes_values[2],ypp[j,0,:])\n",
    "plt.title('vs. burnup')\n",
    "plt.show()"
   ]
  },
  {
   "cell_type": "code",
   "execution_count": null,
   "id": "e725c463",
   "metadata": {},
   "outputs": [],
   "source": [
    "for i in range(3):\n",
    "    ypp=np.asarray(np.gradient(yp[i,:,:,:],axis=2))\n",
    "    print(np.shape(ypp))\n",
    "    for j in range(10):\n",
    "        plt.plot(archive.axes_values[2],ypp[j,0,:])\n",
    "    plt.title(archive.axes_names[i])\n",
    "    plt.show()"
   ]
  },
  {
   "cell_type": "code",
   "execution_count": null,
   "id": "0e8911ca",
   "metadata": {},
   "outputs": [],
   "source": []
  },
  {
   "cell_type": "code",
   "execution_count": null,
   "id": "e18ae209",
   "metadata": {},
   "outputs": [],
   "source": []
  },
  {
   "cell_type": "code",
   "execution_count": null,
   "id": "3b485447",
   "metadata": {},
   "outputs": [],
   "source": []
  },
  {
   "cell_type": "code",
   "execution_count": null,
   "id": "50826bdc",
   "metadata": {},
   "outputs": [],
   "source": []
  },
  {
   "cell_type": "code",
   "execution_count": null,
   "id": "6ea60654",
   "metadata": {},
   "outputs": [],
   "source": [
    "rhist=res['w17x17.h5'].rhist\n",
    "ahist=res['w17x17.h5'].ahist\n",
    "khist=res['w17x17.h5'].khist"
   ]
  },
  {
   "cell_type": "code",
   "execution_count": null,
   "id": "b66a0ce0",
   "metadata": {},
   "outputs": [],
   "source": [
    "plt.hist(rhist, bins=np.linspace(0,np.amax(rhist),100), histtype=u'step',density=False,log=True)\n",
    "plt.show()"
   ]
  },
  {
   "cell_type": "code",
   "execution_count": null,
   "id": "bb2b20c3",
   "metadata": {},
   "outputs": [],
   "source": [
    "plt.hist(ahist, bins=np.linspace(0,np.amax(ahist),100), histtype=u'step',density=False,log=True)\n",
    "plt.show()"
   ]
  },
  {
   "cell_type": "code",
   "execution_count": null,
   "id": "011a7057",
   "metadata": {},
   "outputs": [],
   "source": [
    "plt.scatter(np.log10(rhist),np.log10(ahist),color='black',s=0.1,alpha=0.05)\n",
    "plt.xlabel(r'$\\log \\tilde{h}_{ijk}$')\n",
    "plt.ylabel(r'$\\log h_{ijk}$')\n",
    "plt.xlim(-40,20)\n",
    "plt.ylim(-40,20)\n",
    "plt.show()"
   ]
  },
  {
   "cell_type": "code",
   "execution_count": null,
   "id": "0af5209f",
   "metadata": {},
   "outputs": [],
   "source": [
    "rmin=1e-1\n",
    "amin=1e-1\n",
    "ind = (rhist>rmin) | (ahist>amin)\n",
    "plt.hist2d(np.log10(rhist),np.log10(ahist),bins=np.linspace(-40,20,100),cmin=1,alpha=0.5)\n",
    "h=plt.hist2d(np.log10(rhist[ind]),np.log10(ahist[ind]),bins=np.linspace(-40,20,100),cmin=1,alpha=1.0)\n",
    "plt.colorbar(h[3])\n",
    "plt.xlabel(r'$\\log \\tilde{h}_{ijk}$')\n",
    "plt.ylabel(r'$\\log h_{ijk}$')\n",
    "plt.grid()\n",
    "plt.show()"
   ]
  },
  {
   "cell_type": "code",
   "execution_count": null,
   "id": "b9155875",
   "metadata": {},
   "outputs": [],
   "source": []
  },
  {
   "cell_type": "code",
   "execution_count": null,
   "id": "1bc59ddc",
   "metadata": {},
   "outputs": [],
   "source": []
  },
  {
   "cell_type": "code",
   "execution_count": null,
   "id": "3da124e8",
   "metadata": {},
   "outputs": [],
   "source": []
  },
  {
   "cell_type": "code",
   "execution_count": null,
   "id": "c1fead70",
   "metadata": {},
   "outputs": [],
   "source": [
    "ts=archive.h5['incident']['neutron']['TransitionStructure']\n",
    "dc=archive.h5['decay']\n",
    "target_tind2 = 45241\n",
    "mt=ts['transition_ids'][target_tind2]\n",
    "parent_pos = ts['parent_positions'][target_tind2]\n",
    "nuclide_id=dc['nuclide_list'][parent_pos-1]\n",
    "print(nuclide_id,mt)"
   ]
  },
  {
   "cell_type": "code",
   "execution_count": null,
   "id": "fc45ec36",
   "metadata": {},
   "outputs": [],
   "source": [
    "from tqdm import tqdm\n",
    "for tind in tqdm(range(len(ts['transition_ids']))):\n",
    "    #print(tind)\n",
    "    mt=ts['transition_ids'][tind]\n",
    "    parent_pos = ts['parent_positions'][tind]\n",
    "    nuclide_id=dc['nuclide_list'][parent_pos-1]\n",
    "    if nuclide_id==30054135 and mt==102:\n",
    "        target_tind=tind\n",
    "        print(tind,nuclide_id,mt)"
   ]
  },
  {
   "cell_type": "code",
   "execution_count": null,
   "id": "22230101",
   "metadata": {},
   "outputs": [],
   "source": [
    "target_tind"
   ]
  },
  {
   "cell_type": "code",
   "execution_count": null,
   "id": "5680e56b",
   "metadata": {},
   "outputs": [],
   "source": []
  },
  {
   "cell_type": "code",
   "execution_count": null,
   "id": "c03b0e14",
   "metadata": {},
   "outputs": [],
   "source": []
  }
 ],
 "metadata": {
  "kernelspec": {
   "display_name": "venv",
   "language": "python",
   "name": "venv"
  },
  "language_info": {
   "codemirror_mode": {
    "name": "ipython",
    "version": 3
   },
   "file_extension": ".py",
   "mimetype": "text/x-python",
   "name": "python",
   "nbconvert_exporter": "python",
   "pygments_lexer": "ipython3",
   "version": "3.11.5"
  }
 },
 "nbformat": 4,
 "nbformat_minor": 5
}
