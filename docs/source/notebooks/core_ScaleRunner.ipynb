{
 "cells": [
  {
   "cell_type": "markdown",
   "id": "bfc6208c-3d04-4965-ab0c-0f6402518fcb",
   "metadata": {
    "editable": true,
    "slideshow": {
     "slide_type": ""
    },
    "tags": []
   },
   "source": [
    "# ScaleRunner Usage"
   ]
  },
  {
   "cell_type": "code",
   "execution_count": 1,
   "id": "779de768",
   "metadata": {
    "editable": true,
    "slideshow": {
     "slide_type": ""
    },
    "tags": [
     "init"
    ]
   },
   "outputs": [],
   "source": [
    "# Load modules.\n",
    "import sys\n",
    "import os\n",
    "from pathlib import Path\n",
    "from scale.olm.core import TempDir,ScaleRunner,ThreadPoolExecutor"
   ]
  },
  {
   "cell_type": "code",
   "execution_count": 2,
   "id": "8023ba10-5f92-4779-9b70-22dc6387d7e0",
   "metadata": {},
   "outputs": [
    {
     "name": "stdout",
     "output_type": "stream",
     "text": [
      "/path/to/install/bin/scalerte\n"
     ]
    }
   ],
   "source": [
    "# Set the path.\n",
    "scalerte_path=Path(os.environ.get(\"SCALE\",\"/path/to/install\")) / \"bin\" / \"scalerte\"\n",
    "print(scalerte_path)"
   ]
  },
  {
   "cell_type": "code",
   "execution_count": 3,
   "id": "f1b3f828",
   "metadata": {
    "slideshow": {
     "slide_type": ""
    },
    "tags": []
   },
   "outputs": [
    {
     "ename": "ValueError",
     "evalue": "Path to SCALE Runtime Environment, /path/to/install/bin/scalerte does not exist!",
     "output_type": "error",
     "traceback": [
      "\u001b[0;31m---------------------------------------------------------------------------\u001b[0m",
      "\u001b[0;31mValueError\u001b[0m                                Traceback (most recent call last)",
      "Cell \u001b[0;32mIn[3], line 2\u001b[0m\n\u001b[1;32m      1\u001b[0m \u001b[38;5;66;03m# Create a SCALE instance.\u001b[39;00m\n\u001b[0;32m----> 2\u001b[0m scale_rte\u001b[38;5;241m=\u001b[39m\u001b[43mScaleRunner\u001b[49m\u001b[43m(\u001b[49m\u001b[43mscalerte_path\u001b[49m\u001b[43m)\u001b[49m\n\u001b[1;32m      3\u001b[0m \u001b[38;5;28mprint\u001b[39m(\u001b[38;5;124m'\u001b[39m\u001b[38;5;124mversion:\u001b[39m\u001b[38;5;124m'\u001b[39m,scale_rte\u001b[38;5;241m.\u001b[39mversion)\n\u001b[1;32m      4\u001b[0m \u001b[38;5;28mprint\u001b[39m(\u001b[38;5;124m'\u001b[39m\u001b[38;5;124mdata (GB):\u001b[39m\u001b[38;5;124m'\u001b[39m,scale_rte\u001b[38;5;241m.\u001b[39mdata_size\u001b[38;5;241m/\u001b[39m\u001b[38;5;241m1e9\u001b[39m)\n",
      "File \u001b[0;32m~/dev/scale/olm/scale/olm/core.py:1283\u001b[0m, in \u001b[0;36mScaleRunner.__init__\u001b[0;34m(self, scalerte_path, do_not_run)\u001b[0m\n\u001b[1;32m   1281\u001b[0m \u001b[38;5;28;01mif\u001b[39;00m \u001b[38;5;129;01mnot\u001b[39;00m \u001b[38;5;28mself\u001b[39m\u001b[38;5;241m.\u001b[39mdo_not_run:\n\u001b[1;32m   1282\u001b[0m     \u001b[38;5;28;01mif\u001b[39;00m \u001b[38;5;129;01mnot\u001b[39;00m \u001b[38;5;28mself\u001b[39m\u001b[38;5;241m.\u001b[39mscalerte_path\u001b[38;5;241m.\u001b[39mexists():\n\u001b[0;32m-> 1283\u001b[0m         \u001b[38;5;28;01mraise\u001b[39;00m \u001b[38;5;167;01mValueError\u001b[39;00m(\n\u001b[1;32m   1284\u001b[0m             \u001b[38;5;124mf\u001b[39m\u001b[38;5;124m\"\u001b[39m\u001b[38;5;124mPath to SCALE Runtime Environment, \u001b[39m\u001b[38;5;132;01m{\u001b[39;00m\u001b[38;5;28mself\u001b[39m\u001b[38;5;241m.\u001b[39mscalerte_path\u001b[38;5;132;01m}\u001b[39;00m\u001b[38;5;124m does not exist!\u001b[39m\u001b[38;5;124m\"\u001b[39m\n\u001b[1;32m   1285\u001b[0m         )\n\u001b[1;32m   1286\u001b[0m \u001b[38;5;28mself\u001b[39m\u001b[38;5;241m.\u001b[39margs \u001b[38;5;241m=\u001b[39m \u001b[38;5;124m\"\u001b[39m\u001b[38;5;124m\"\u001b[39m\n\u001b[1;32m   1287\u001b[0m \u001b[38;5;28mself\u001b[39m\u001b[38;5;241m.\u001b[39mversion \u001b[38;5;241m=\u001b[39m \u001b[38;5;28mself\u001b[39m\u001b[38;5;241m.\u001b[39m_get_version(\u001b[38;5;28mself\u001b[39m\u001b[38;5;241m.\u001b[39mscalerte_path, do_not_run)\n",
      "\u001b[0;31mValueError\u001b[0m: Path to SCALE Runtime Environment, /path/to/install/bin/scalerte does not exist!"
     ]
    }
   ],
   "source": [
    "# Create a SCALE instance.\n",
    "scale_rte=ScaleRunner(scalerte_path)\n",
    "print('version:',scale_rte.version)\n",
    "print('data (GB):',scale_rte.data_size/1e9)"
   ]
  },
  {
   "cell_type": "code",
   "execution_count": null,
   "id": "f16ec341-5f03-4a08-98c1-f305692e3700",
   "metadata": {},
   "outputs": [],
   "source": [
    "# Create a temporary directory for inputs.\n",
    "ti=TempDir()"
   ]
  },
  {
   "cell_type": "code",
   "execution_count": null,
   "id": "5c24006e",
   "metadata": {},
   "outputs": [],
   "source": [
    "# Create test input files in a temporary directory. Each input file just runs \"sleep 1\" to sleep\n",
    "# for 1 second, but it does it through SCALE's shell command.\n",
    "input_list=[]\n",
    "sleep_seconds = 2\n",
    "num_tasks = 10\n",
    "for i in range(num_tasks):\n",
    "    input_list.append(ti.write_file(f\"=shell\\nsleep {sleep_seconds}\\nend\\n\",f\"{i}.inp\"))"
   ]
  },
  {
   "cell_type": "code",
   "execution_count": null,
   "id": "e7097f0b",
   "metadata": {},
   "outputs": [],
   "source": [
    "# Run the first input.\n",
    "input, output = scale_rte.run(input_list[0])\n",
    "srs = output['scale_runtime_seconds']"
   ]
  },
  {
   "cell_type": "code",
   "execution_count": null,
   "id": "46c5f404",
   "metadata": {},
   "outputs": [],
   "source": [
    "# Create a thread executor.\n",
    "num_workers=6\n",
    "tpe = ThreadPoolExecutor(max_workers=num_workers)"
   ]
  },
  {
   "cell_type": "code",
   "execution_count": null,
   "id": "f3680930",
   "metadata": {},
   "outputs": [],
   "source": [
    "# Run all the inputs.\n",
    "import time\n",
    "start = time.time()\n",
    "total_needed_seconds = srs*num_tasks\n",
    "results = tpe.execute(scale_rte.run,input_list)\n",
    "total_used_seconds = time.time() - start\n",
    "print('ideal time:',total_needed_seconds/num_workers)\n",
    "print('used time:',total_used_seconds)"
   ]
  },
  {
   "cell_type": "code",
   "execution_count": null,
   "id": "4ee7df6c",
   "metadata": {},
   "outputs": [],
   "source": [
    "for k,v in results.items():\n",
    "    print(k,v['success'])"
   ]
  },
  {
   "cell_type": "code",
   "execution_count": null,
   "id": "7724589d",
   "metadata": {},
   "outputs": [],
   "source": [
    "# Plot a histogram of runtimes.\n",
    "import matplotlib.pyplot as plt\n",
    "times1 = [v['runtime_seconds'] for k,v in results.items()]\n",
    "plt.hist(times1,10)\n",
    "plt.title('Runtime distribution (first run)')\n",
    "plt.ylabel('# of runs')\n",
    "plt.xlabel('time(s)')\n",
    "plt.show()"
   ]
  },
  {
   "cell_type": "code",
   "execution_count": null,
   "id": "115cb28b",
   "metadata": {},
   "outputs": [],
   "source": [
    "# Rerun an plot a histogram of runtimes.\n",
    "import numpy as np\n",
    "results = tpe.execute(scale_rte.run,input_list)\n",
    "times2 = [v['runtime_seconds'] for k,v in results.items()]\n",
    "bins = np.linspace(0, np.amax([times1,times2]), 30)\n",
    "plt.hist(times1, bins, alpha=0.5, label='first run')\n",
    "plt.hist(times2, bins, alpha=0.5, label='second (re)run')\n",
    "plt.legend(loc='upper right')\n",
    "plt.title('Runtime distribution, showing huge time savings for avoiding reruns')\n",
    "plt.ylabel('# of runs')\n",
    "plt.xlabel('time(s)')\n",
    "plt.show()\n"
   ]
  },
  {
   "cell_type": "code",
   "execution_count": null,
   "id": "f2cae969",
   "metadata": {},
   "outputs": [],
   "source": [
    "# Finally, if we modify a file, only that file will be rerun even when we submit the entire group.\n",
    "import random\n",
    "rand = random.uniform(1.0,3.0)\n",
    "ti.write_file(f\"=shell\\nsleep {rand} \\nend\\n\",\"0.inp\")\n",
    "results = tpe.execute(scale_rte.run,input_list)\n",
    "times3 = [v['runtime_seconds'] for k,v in results.items()]\n",
    "plt.hist(times1, bins, alpha=0.5, label='first run')\n",
    "plt.hist(times2, bins, alpha=0.5, label='second run--no mods')\n",
    "plt.hist(times3, bins, alpha=0.5, label='third run--one file mod')\n",
    "plt.legend(loc='upper right')\n",
    "plt.title('Runtime distribution, showing huge time savings for avoiding reruns')\n",
    "plt.ylabel('# of runs')\n",
    "plt.xlabel('time(s)')\n",
    "plt.show()"
   ]
  },
  {
   "cell_type": "code",
   "execution_count": null,
   "id": "ddf6a9cb",
   "metadata": {},
   "outputs": [],
   "source": [
    "for k,x in results.items():\n",
    "    print(k,x['rerun'])\n",
    "    if x['rerun']:\n",
    "        print(k,'was rerun!')"
   ]
  }
 ],
 "metadata": {
  "kernelspec": {
   "display_name": "venv",
   "language": "python",
   "name": "venv"
  },
  "language_info": {
   "codemirror_mode": {
    "name": "ipython",
    "version": 3
   },
   "file_extension": ".py",
   "mimetype": "text/x-python",
   "name": "python",
   "nbconvert_exporter": "python",
   "pygments_lexer": "ipython3",
   "version": "3.11.5"
  }
 },
 "nbformat": 4,
 "nbformat_minor": 5
}
