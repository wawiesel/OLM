{
 "cells": [
  {
   "cell_type": "markdown",
   "id": "20d44050-6436-4c07-9ae5-323ed91e9936",
   "metadata": {
    "editable": true,
    "slideshow": {
     "slide_type": ""
    },
    "tags": []
   },
   "source": [
    "# CompositionManager Usage"
   ]
  },
  {
   "cell_type": "code",
   "execution_count": 12,
   "id": "8f1c1088",
   "metadata": {
    "editable": true,
    "slideshow": {
     "slide_type": ""
    },
    "tags": []
   },
   "outputs": [],
   "source": [
    "import numpy as np\n",
    "import sys\n",
    "import os\n",
    "import matplotlib.pyplot as plt\n",
    "from pathlib import Path\n",
    "import scale.olm.core as core\n",
    "import json\n",
    "data_file=Path('data')/'nuclide_data-scale6_3.json'\n",
    "with open(data_file,'r') as f:\n",
    "    data = json.load(f)"
   ]
  },
  {
   "cell_type": "code",
   "execution_count": 13,
   "id": "2ef36b30",
   "metadata": {
    "editable": true,
    "slideshow": {
     "slide_type": ""
    },
    "tags": []
   },
   "outputs": [],
   "source": [
    "cm = core.CompositionManager(data)"
   ]
  },
  {
   "cell_type": "code",
   "execution_count": 14,
   "id": "31dcf3cf",
   "metadata": {
    "editable": true,
    "slideshow": {
     "slide_type": ""
    },
    "tags": []
   },
   "outputs": [
    {
     "data": {
      "text/plain": [
       "238.049560546875"
      ]
     },
     "execution_count": 14,
     "metadata": {},
     "output_type": "execute_result"
    }
   ],
   "source": [
    "cm.mass('pu238')"
   ]
  },
  {
   "cell_type": "code",
   "execution_count": 15,
   "id": "d248f55e",
   "metadata": {
    "editable": true,
    "slideshow": {
     "slide_type": ""
    },
    "tags": []
   },
   "outputs": [
    {
     "data": {
      "text/plain": [
       "'u235m'"
      ]
     },
     "execution_count": 15,
     "metadata": {},
     "output_type": "execute_result"
    }
   ],
   "source": [
    "cm.eam('1092235')"
   ]
  },
  {
   "cell_type": "code",
   "execution_count": 16,
   "id": "6b6fda99-4006-4a2c-8b74-781e748dae6a",
   "metadata": {
    "editable": true,
    "slideshow": {
     "slide_type": ""
    },
    "tags": []
   },
   "outputs": [
    {
     "data": {
      "text/plain": [
       "'1092235'"
      ]
     },
     "execution_count": 16,
     "metadata": {},
     "output_type": "execute_result"
    }
   ],
   "source": [
    "cm.izzzaaa('u235m')"
   ]
  },
  {
   "cell_type": "code",
   "execution_count": 19,
   "id": "5f35844e-5403-4430-ab0d-55d1e04e2547",
   "metadata": {
    "editable": true,
    "slideshow": {
     "slide_type": ""
    },
    "tags": []
   },
   "outputs": [
    {
     "data": {
      "text/plain": [
       "-4.57763671875e-05"
      ]
     },
     "execution_count": 19,
     "metadata": {},
     "output_type": "execute_result"
    }
   ],
   "source": [
    "cm.mass('am242m') - cm.mass('am242')"
   ]
  },
  {
   "cell_type": "code",
   "execution_count": null,
   "id": "67df455d-e032-48cc-8dc8-fd7e12cdbbcb",
   "metadata": {
    "editable": true,
    "slideshow": {
     "slide_type": ""
    },
    "tags": []
   },
   "outputs": [],
   "source": []
  }
 ],
 "metadata": {
  "kernelspec": {
   "display_name": "Python 3 (ipykernel)",
   "language": "python",
   "name": "python3"
  },
  "language_info": {
   "codemirror_mode": {
    "name": "ipython",
    "version": 3
   },
   "file_extension": ".py",
   "mimetype": "text/x-python",
   "name": "python",
   "nbconvert_exporter": "python",
   "pygments_lexer": "ipython3",
   "version": "3.11.5"
  }
 },
 "nbformat": 4,
 "nbformat_minor": 5
}
